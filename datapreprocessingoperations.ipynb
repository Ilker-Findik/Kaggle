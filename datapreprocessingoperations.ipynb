{
 "cells": [
  {
   "cell_type": "code",
   "execution_count": 1,
   "id": "321b5a58",
   "metadata": {
    "_cell_guid": "b1076dfc-b9ad-4769-8c92-a6c4dae69d19",
    "_uuid": "8f2839f25d086af736a60e9eeb907d3b93b6e0e5",
    "execution": {
     "iopub.execute_input": "2025-09-08T23:18:58.927928Z",
     "iopub.status.busy": "2025-09-08T23:18:58.927489Z",
     "iopub.status.idle": "2025-09-08T23:19:02.679222Z",
     "shell.execute_reply": "2025-09-08T23:19:02.678136Z"
    },
    "papermill": {
     "duration": 3.760902,
     "end_time": "2025-09-08T23:19:02.681080",
     "exception": false,
     "start_time": "2025-09-08T23:18:58.920178",
     "status": "completed"
    },
    "tags": []
   },
   "outputs": [
    {
     "name": "stdout",
     "output_type": "stream",
     "text": [
      "/kaggle/input/google-play-store-apps/googleplaystore.csv\n",
      "/kaggle/input/google-play-store-apps/license.txt\n",
      "/kaggle/input/google-play-store-apps/googleplaystore_user_reviews.csv\n"
     ]
    }
   ],
   "source": [
    "# This Python 3 environment comes with many helpful analytics libraries installed\n",
    "# It is defined by the kaggle/python Docker image: https://github.com/kaggle/docker-python\n",
    "# For example, here's several helpful packages to load\n",
    "\n",
    "import numpy as np # linear algebra\n",
    "import pandas as pd\n",
    "import matplotlib.pyplot as plt\n",
    "import seaborn as sns\n",
    "%matplotlib inline\n",
    "\n",
    "# data processing, CSV file I/O (e.g. pd.read_csv)\n",
    "\n",
    "# Input data files are available in the read-only \"../input/\" directory\n",
    "# For example, running this (by clicking run or pressing Shift+Enter) will list all files under the input directory\n",
    "\n",
    "import os\n",
    "for dirname, _, filenames in os.walk('/kaggle/input'):\n",
    "    for filename in filenames:\n",
    "        print(os.path.join(dirname, filename))\n",
    "\n",
    "# You can write up to 20GB to the current directory (/kaggle/working/) that gets preserved as output when you create a version using \"Save & Run All\" \n",
    "# You can also write temporary files to /kaggle/temp/, but they won't be saved outside of the current session"
   ]
  },
  {
   "cell_type": "code",
   "execution_count": 2,
   "id": "5d160c0a",
   "metadata": {
    "execution": {
     "iopub.execute_input": "2025-09-08T23:19:02.693571Z",
     "iopub.status.busy": "2025-09-08T23:19:02.693092Z",
     "iopub.status.idle": "2025-09-08T23:19:02.766906Z",
     "shell.execute_reply": "2025-09-08T23:19:02.766069Z"
    },
    "papermill": {
     "duration": 0.082009,
     "end_time": "2025-09-08T23:19:02.768840",
     "exception": false,
     "start_time": "2025-09-08T23:19:02.686831",
     "status": "completed"
    },
    "tags": []
   },
   "outputs": [],
   "source": [
    "df = pd.read_csv('/kaggle/input/google-play-store-apps/googleplaystore.csv')"
   ]
  },
  {
   "cell_type": "code",
   "execution_count": 3,
   "id": "9c7a5851",
   "metadata": {
    "execution": {
     "iopub.execute_input": "2025-09-08T23:19:02.781803Z",
     "iopub.status.busy": "2025-09-08T23:19:02.780982Z",
     "iopub.status.idle": "2025-09-08T23:19:02.808470Z",
     "shell.execute_reply": "2025-09-08T23:19:02.807286Z"
    },
    "papermill": {
     "duration": 0.035424,
     "end_time": "2025-09-08T23:19:02.809787",
     "exception": false,
     "start_time": "2025-09-08T23:19:02.774363",
     "status": "completed"
    },
    "tags": []
   },
   "outputs": [
    {
     "data": {
      "text/html": [
       "<div>\n",
       "<style scoped>\n",
       "    .dataframe tbody tr th:only-of-type {\n",
       "        vertical-align: middle;\n",
       "    }\n",
       "\n",
       "    .dataframe tbody tr th {\n",
       "        vertical-align: top;\n",
       "    }\n",
       "\n",
       "    .dataframe thead th {\n",
       "        text-align: right;\n",
       "    }\n",
       "</style>\n",
       "<table border=\"1\" class=\"dataframe\">\n",
       "  <thead>\n",
       "    <tr style=\"text-align: right;\">\n",
       "      <th></th>\n",
       "      <th>App</th>\n",
       "      <th>Category</th>\n",
       "      <th>Rating</th>\n",
       "      <th>Reviews</th>\n",
       "      <th>Size</th>\n",
       "      <th>Installs</th>\n",
       "      <th>Type</th>\n",
       "      <th>Price</th>\n",
       "      <th>Content Rating</th>\n",
       "      <th>Genres</th>\n",
       "      <th>Last Updated</th>\n",
       "      <th>Current Ver</th>\n",
       "      <th>Android Ver</th>\n",
       "    </tr>\n",
       "  </thead>\n",
       "  <tbody>\n",
       "    <tr>\n",
       "      <th>0</th>\n",
       "      <td>Photo Editor &amp; Candy Camera &amp; Grid &amp; ScrapBook</td>\n",
       "      <td>ART_AND_DESIGN</td>\n",
       "      <td>4.1</td>\n",
       "      <td>159</td>\n",
       "      <td>19M</td>\n",
       "      <td>10,000+</td>\n",
       "      <td>Free</td>\n",
       "      <td>0</td>\n",
       "      <td>Everyone</td>\n",
       "      <td>Art &amp; Design</td>\n",
       "      <td>January 7, 2018</td>\n",
       "      <td>1.0.0</td>\n",
       "      <td>4.0.3 and up</td>\n",
       "    </tr>\n",
       "    <tr>\n",
       "      <th>1</th>\n",
       "      <td>Coloring book moana</td>\n",
       "      <td>ART_AND_DESIGN</td>\n",
       "      <td>3.9</td>\n",
       "      <td>967</td>\n",
       "      <td>14M</td>\n",
       "      <td>500,000+</td>\n",
       "      <td>Free</td>\n",
       "      <td>0</td>\n",
       "      <td>Everyone</td>\n",
       "      <td>Art &amp; Design;Pretend Play</td>\n",
       "      <td>January 15, 2018</td>\n",
       "      <td>2.0.0</td>\n",
       "      <td>4.0.3 and up</td>\n",
       "    </tr>\n",
       "    <tr>\n",
       "      <th>2</th>\n",
       "      <td>U Launcher Lite – FREE Live Cool Themes, Hide ...</td>\n",
       "      <td>ART_AND_DESIGN</td>\n",
       "      <td>4.7</td>\n",
       "      <td>87510</td>\n",
       "      <td>8.7M</td>\n",
       "      <td>5,000,000+</td>\n",
       "      <td>Free</td>\n",
       "      <td>0</td>\n",
       "      <td>Everyone</td>\n",
       "      <td>Art &amp; Design</td>\n",
       "      <td>August 1, 2018</td>\n",
       "      <td>1.2.4</td>\n",
       "      <td>4.0.3 and up</td>\n",
       "    </tr>\n",
       "    <tr>\n",
       "      <th>3</th>\n",
       "      <td>Sketch - Draw &amp; Paint</td>\n",
       "      <td>ART_AND_DESIGN</td>\n",
       "      <td>4.5</td>\n",
       "      <td>215644</td>\n",
       "      <td>25M</td>\n",
       "      <td>50,000,000+</td>\n",
       "      <td>Free</td>\n",
       "      <td>0</td>\n",
       "      <td>Teen</td>\n",
       "      <td>Art &amp; Design</td>\n",
       "      <td>June 8, 2018</td>\n",
       "      <td>Varies with device</td>\n",
       "      <td>4.2 and up</td>\n",
       "    </tr>\n",
       "    <tr>\n",
       "      <th>4</th>\n",
       "      <td>Pixel Draw - Number Art Coloring Book</td>\n",
       "      <td>ART_AND_DESIGN</td>\n",
       "      <td>4.3</td>\n",
       "      <td>967</td>\n",
       "      <td>2.8M</td>\n",
       "      <td>100,000+</td>\n",
       "      <td>Free</td>\n",
       "      <td>0</td>\n",
       "      <td>Everyone</td>\n",
       "      <td>Art &amp; Design;Creativity</td>\n",
       "      <td>June 20, 2018</td>\n",
       "      <td>1.1</td>\n",
       "      <td>4.4 and up</td>\n",
       "    </tr>\n",
       "  </tbody>\n",
       "</table>\n",
       "</div>"
      ],
      "text/plain": [
       "                                                 App        Category  Rating  \\\n",
       "0     Photo Editor & Candy Camera & Grid & ScrapBook  ART_AND_DESIGN     4.1   \n",
       "1                                Coloring book moana  ART_AND_DESIGN     3.9   \n",
       "2  U Launcher Lite – FREE Live Cool Themes, Hide ...  ART_AND_DESIGN     4.7   \n",
       "3                              Sketch - Draw & Paint  ART_AND_DESIGN     4.5   \n",
       "4              Pixel Draw - Number Art Coloring Book  ART_AND_DESIGN     4.3   \n",
       "\n",
       "  Reviews  Size     Installs  Type Price Content Rating  \\\n",
       "0     159   19M      10,000+  Free     0       Everyone   \n",
       "1     967   14M     500,000+  Free     0       Everyone   \n",
       "2   87510  8.7M   5,000,000+  Free     0       Everyone   \n",
       "3  215644   25M  50,000,000+  Free     0           Teen   \n",
       "4     967  2.8M     100,000+  Free     0       Everyone   \n",
       "\n",
       "                      Genres      Last Updated         Current Ver  \\\n",
       "0               Art & Design   January 7, 2018               1.0.0   \n",
       "1  Art & Design;Pretend Play  January 15, 2018               2.0.0   \n",
       "2               Art & Design    August 1, 2018               1.2.4   \n",
       "3               Art & Design      June 8, 2018  Varies with device   \n",
       "4    Art & Design;Creativity     June 20, 2018                 1.1   \n",
       "\n",
       "    Android Ver  \n",
       "0  4.0.3 and up  \n",
       "1  4.0.3 and up  \n",
       "2  4.0.3 and up  \n",
       "3    4.2 and up  \n",
       "4    4.4 and up  "
      ]
     },
     "execution_count": 3,
     "metadata": {},
     "output_type": "execute_result"
    }
   ],
   "source": [
    "df.head()"
   ]
  },
  {
   "cell_type": "code",
   "execution_count": 4,
   "id": "eb2b654d",
   "metadata": {
    "execution": {
     "iopub.execute_input": "2025-09-08T23:19:02.822717Z",
     "iopub.status.busy": "2025-09-08T23:19:02.822435Z",
     "iopub.status.idle": "2025-09-08T23:19:02.829671Z",
     "shell.execute_reply": "2025-09-08T23:19:02.828734Z"
    },
    "papermill": {
     "duration": 0.015523,
     "end_time": "2025-09-08T23:19:02.831262",
     "exception": false,
     "start_time": "2025-09-08T23:19:02.815739",
     "status": "completed"
    },
    "tags": []
   },
   "outputs": [
    {
     "data": {
      "text/plain": [
       "Index(['App', 'Category', 'Rating', 'Reviews', 'Size', 'Installs', 'Type',\n",
       "       'Price', 'Content Rating', 'Genres', 'Last Updated', 'Current Ver',\n",
       "       'Android Ver'],\n",
       "      dtype='object')"
      ]
     },
     "execution_count": 4,
     "metadata": {},
     "output_type": "execute_result"
    }
   ],
   "source": [
    "df.columns"
   ]
  },
  {
   "cell_type": "code",
   "execution_count": 5,
   "id": "abacb941",
   "metadata": {
    "execution": {
     "iopub.execute_input": "2025-09-08T23:19:02.843861Z",
     "iopub.status.busy": "2025-09-08T23:19:02.843590Z",
     "iopub.status.idle": "2025-09-08T23:19:02.849416Z",
     "shell.execute_reply": "2025-09-08T23:19:02.848567Z"
    },
    "papermill": {
     "duration": 0.014129,
     "end_time": "2025-09-08T23:19:02.851234",
     "exception": false,
     "start_time": "2025-09-08T23:19:02.837105",
     "status": "completed"
    },
    "tags": []
   },
   "outputs": [
    {
     "data": {
      "text/plain": [
       "(10841, 13)"
      ]
     },
     "execution_count": 5,
     "metadata": {},
     "output_type": "execute_result"
    }
   ],
   "source": [
    "df.shape"
   ]
  },
  {
   "cell_type": "code",
   "execution_count": 6,
   "id": "e17522e6",
   "metadata": {
    "execution": {
     "iopub.execute_input": "2025-09-08T23:19:02.864325Z",
     "iopub.status.busy": "2025-09-08T23:19:02.864077Z",
     "iopub.status.idle": "2025-09-08T23:19:02.892323Z",
     "shell.execute_reply": "2025-09-08T23:19:02.890838Z"
    },
    "papermill": {
     "duration": 0.036248,
     "end_time": "2025-09-08T23:19:02.893919",
     "exception": false,
     "start_time": "2025-09-08T23:19:02.857671",
     "status": "completed"
    },
    "tags": []
   },
   "outputs": [
    {
     "name": "stdout",
     "output_type": "stream",
     "text": [
      "<class 'pandas.core.frame.DataFrame'>\n",
      "RangeIndex: 10841 entries, 0 to 10840\n",
      "Data columns (total 13 columns):\n",
      " #   Column          Non-Null Count  Dtype  \n",
      "---  ------          --------------  -----  \n",
      " 0   App             10841 non-null  object \n",
      " 1   Category        10841 non-null  object \n",
      " 2   Rating          9367 non-null   float64\n",
      " 3   Reviews         10841 non-null  object \n",
      " 4   Size            10841 non-null  object \n",
      " 5   Installs        10841 non-null  object \n",
      " 6   Type            10840 non-null  object \n",
      " 7   Price           10841 non-null  object \n",
      " 8   Content Rating  10840 non-null  object \n",
      " 9   Genres          10841 non-null  object \n",
      " 10  Last Updated    10841 non-null  object \n",
      " 11  Current Ver     10833 non-null  object \n",
      " 12  Android Ver     10838 non-null  object \n",
      "dtypes: float64(1), object(12)\n",
      "memory usage: 1.1+ MB\n"
     ]
    }
   ],
   "source": [
    "df.info()"
   ]
  },
  {
   "cell_type": "code",
   "execution_count": 7,
   "id": "ac74869a",
   "metadata": {
    "execution": {
     "iopub.execute_input": "2025-09-08T23:19:02.908625Z",
     "iopub.status.busy": "2025-09-08T23:19:02.907879Z",
     "iopub.status.idle": "2025-09-08T23:19:02.921169Z",
     "shell.execute_reply": "2025-09-08T23:19:02.920131Z"
    },
    "papermill": {
     "duration": 0.02147,
     "end_time": "2025-09-08T23:19:02.922750",
     "exception": false,
     "start_time": "2025-09-08T23:19:02.901280",
     "status": "completed"
    },
    "tags": []
   },
   "outputs": [
    {
     "data": {
      "text/plain": [
       "App                  0\n",
       "Category             0\n",
       "Rating            1474\n",
       "Reviews              0\n",
       "Size                 0\n",
       "Installs             0\n",
       "Type                 1\n",
       "Price                0\n",
       "Content Rating       1\n",
       "Genres               0\n",
       "Last Updated         0\n",
       "Current Ver          8\n",
       "Android Ver          3\n",
       "dtype: int64"
      ]
     },
     "execution_count": 7,
     "metadata": {},
     "output_type": "execute_result"
    }
   ],
   "source": [
    "df.isnull().sum()"
   ]
  },
  {
   "cell_type": "code",
   "execution_count": 8,
   "id": "d0fc302b",
   "metadata": {
    "execution": {
     "iopub.execute_input": "2025-09-08T23:19:02.936287Z",
     "iopub.status.busy": "2025-09-08T23:19:02.935936Z",
     "iopub.status.idle": "2025-09-08T23:19:02.953134Z",
     "shell.execute_reply": "2025-09-08T23:19:02.952207Z"
    },
    "papermill": {
     "duration": 0.025554,
     "end_time": "2025-09-08T23:19:02.954427",
     "exception": false,
     "start_time": "2025-09-08T23:19:02.928873",
     "status": "completed"
    },
    "tags": []
   },
   "outputs": [
    {
     "data": {
      "text/html": [
       "<div>\n",
       "<style scoped>\n",
       "    .dataframe tbody tr th:only-of-type {\n",
       "        vertical-align: middle;\n",
       "    }\n",
       "\n",
       "    .dataframe tbody tr th {\n",
       "        vertical-align: top;\n",
       "    }\n",
       "\n",
       "    .dataframe thead th {\n",
       "        text-align: right;\n",
       "    }\n",
       "</style>\n",
       "<table border=\"1\" class=\"dataframe\">\n",
       "  <thead>\n",
       "    <tr style=\"text-align: right;\">\n",
       "      <th></th>\n",
       "      <th>App</th>\n",
       "      <th>Category</th>\n",
       "      <th>Rating</th>\n",
       "      <th>Reviews</th>\n",
       "      <th>Size</th>\n",
       "      <th>Installs</th>\n",
       "      <th>Type</th>\n",
       "      <th>Price</th>\n",
       "      <th>Content Rating</th>\n",
       "      <th>Genres</th>\n",
       "      <th>Last Updated</th>\n",
       "      <th>Current Ver</th>\n",
       "      <th>Android Ver</th>\n",
       "    </tr>\n",
       "  </thead>\n",
       "  <tbody>\n",
       "    <tr>\n",
       "      <th>10472</th>\n",
       "      <td>Life Made WI-Fi Touchscreen Photo Frame</td>\n",
       "      <td>1.9</td>\n",
       "      <td>19.0</td>\n",
       "      <td>3.0M</td>\n",
       "      <td>1,000+</td>\n",
       "      <td>Free</td>\n",
       "      <td>0</td>\n",
       "      <td>Everyone</td>\n",
       "      <td>NaN</td>\n",
       "      <td>February 11, 2018</td>\n",
       "      <td>1.0.19</td>\n",
       "      <td>4.0 and up</td>\n",
       "      <td>NaN</td>\n",
       "    </tr>\n",
       "  </tbody>\n",
       "</table>\n",
       "</div>"
      ],
      "text/plain": [
       "                                           App Category  Rating Reviews  \\\n",
       "10472  Life Made WI-Fi Touchscreen Photo Frame      1.9    19.0    3.0M   \n",
       "\n",
       "         Size Installs Type     Price Content Rating             Genres  \\\n",
       "10472  1,000+     Free    0  Everyone            NaN  February 11, 2018   \n",
       "\n",
       "      Last Updated Current Ver Android Ver  \n",
       "10472       1.0.19  4.0 and up         NaN  "
      ]
     },
     "execution_count": 8,
     "metadata": {},
     "output_type": "execute_result"
    }
   ],
   "source": [
    " df[~df['Reviews'].str.isnumeric()]"
   ]
  },
  {
   "cell_type": "code",
   "execution_count": 9,
   "id": "a63d8a1e",
   "metadata": {
    "execution": {
     "iopub.execute_input": "2025-09-08T23:19:02.968330Z",
     "iopub.status.busy": "2025-09-08T23:19:02.967553Z",
     "iopub.status.idle": "2025-09-08T23:19:02.972618Z",
     "shell.execute_reply": "2025-09-08T23:19:02.971722Z"
    },
    "papermill": {
     "duration": 0.013443,
     "end_time": "2025-09-08T23:19:02.974043",
     "exception": false,
     "start_time": "2025-09-08T23:19:02.960600",
     "status": "completed"
    },
    "tags": []
   },
   "outputs": [],
   "source": [
    "df_clean = df.copy()"
   ]
  },
  {
   "cell_type": "code",
   "execution_count": 10,
   "id": "7449bc98",
   "metadata": {
    "execution": {
     "iopub.execute_input": "2025-09-08T23:19:02.987062Z",
     "iopub.status.busy": "2025-09-08T23:19:02.986786Z",
     "iopub.status.idle": "2025-09-08T23:19:02.994780Z",
     "shell.execute_reply": "2025-09-08T23:19:02.993828Z"
    },
    "papermill": {
     "duration": 0.016293,
     "end_time": "2025-09-08T23:19:02.996532",
     "exception": false,
     "start_time": "2025-09-08T23:19:02.980239",
     "status": "completed"
    },
    "tags": []
   },
   "outputs": [],
   "source": [
    "df_clean = df_clean.drop(df_clean.index[10472])"
   ]
  },
  {
   "cell_type": "code",
   "execution_count": 11,
   "id": "46e7afac",
   "metadata": {
    "execution": {
     "iopub.execute_input": "2025-09-08T23:19:03.010574Z",
     "iopub.status.busy": "2025-09-08T23:19:03.010289Z",
     "iopub.status.idle": "2025-09-08T23:19:03.016367Z",
     "shell.execute_reply": "2025-09-08T23:19:03.015320Z"
    },
    "papermill": {
     "duration": 0.015141,
     "end_time": "2025-09-08T23:19:03.017873",
     "exception": false,
     "start_time": "2025-09-08T23:19:03.002732",
     "status": "completed"
    },
    "tags": []
   },
   "outputs": [],
   "source": [
    "df_clean['Reviews'] = df_clean['Reviews'].astype(int) "
   ]
  },
  {
   "cell_type": "code",
   "execution_count": 12,
   "id": "ea1cb3a1",
   "metadata": {
    "execution": {
     "iopub.execute_input": "2025-09-08T23:19:03.033184Z",
     "iopub.status.busy": "2025-09-08T23:19:03.032682Z",
     "iopub.status.idle": "2025-09-08T23:19:03.048957Z",
     "shell.execute_reply": "2025-09-08T23:19:03.047839Z"
    },
    "papermill": {
     "duration": 0.025456,
     "end_time": "2025-09-08T23:19:03.050404",
     "exception": false,
     "start_time": "2025-09-08T23:19:03.024948",
     "status": "completed"
    },
    "tags": []
   },
   "outputs": [
    {
     "name": "stdout",
     "output_type": "stream",
     "text": [
      "<class 'pandas.core.frame.DataFrame'>\n",
      "Index: 10840 entries, 0 to 10840\n",
      "Data columns (total 13 columns):\n",
      " #   Column          Non-Null Count  Dtype  \n",
      "---  ------          --------------  -----  \n",
      " 0   App             10840 non-null  object \n",
      " 1   Category        10840 non-null  object \n",
      " 2   Rating          9366 non-null   float64\n",
      " 3   Reviews         10840 non-null  int64  \n",
      " 4   Size            10840 non-null  object \n",
      " 5   Installs        10840 non-null  object \n",
      " 6   Type            10839 non-null  object \n",
      " 7   Price           10840 non-null  object \n",
      " 8   Content Rating  10840 non-null  object \n",
      " 9   Genres          10840 non-null  object \n",
      " 10  Last Updated    10840 non-null  object \n",
      " 11  Current Ver     10832 non-null  object \n",
      " 12  Android Ver     10838 non-null  object \n",
      "dtypes: float64(1), int64(1), object(11)\n",
      "memory usage: 1.2+ MB\n"
     ]
    }
   ],
   "source": [
    "df_clean.info()"
   ]
  },
  {
   "cell_type": "code",
   "execution_count": 13,
   "id": "9c17de00",
   "metadata": {
    "execution": {
     "iopub.execute_input": "2025-09-08T23:19:03.066101Z",
     "iopub.status.busy": "2025-09-08T23:19:03.065806Z",
     "iopub.status.idle": "2025-09-08T23:19:03.073057Z",
     "shell.execute_reply": "2025-09-08T23:19:03.072015Z"
    },
    "papermill": {
     "duration": 0.017831,
     "end_time": "2025-09-08T23:19:03.074507",
     "exception": false,
     "start_time": "2025-09-08T23:19:03.056676",
     "status": "completed"
    },
    "tags": []
   },
   "outputs": [
    {
     "data": {
      "text/plain": [
       "array(['19M', '14M', '8.7M', '25M', '2.8M', '5.6M', '29M', '33M', '3.1M',\n",
       "       '28M', '12M', '20M', '21M', '37M', '2.7M', '5.5M', '17M', '39M',\n",
       "       '31M', '4.2M', '7.0M', '23M', '6.0M', '6.1M', '4.6M', '9.2M',\n",
       "       '5.2M', '11M', '24M', 'Varies with device', '9.4M', '15M', '10M',\n",
       "       '1.2M', '26M', '8.0M', '7.9M', '56M', '57M', '35M', '54M', '201k',\n",
       "       '3.6M', '5.7M', '8.6M', '2.4M', '27M', '2.5M', '16M', '3.4M',\n",
       "       '8.9M', '3.9M', '2.9M', '38M', '32M', '5.4M', '18M', '1.1M',\n",
       "       '2.2M', '4.5M', '9.8M', '52M', '9.0M', '6.7M', '30M', '2.6M',\n",
       "       '7.1M', '3.7M', '22M', '7.4M', '6.4M', '3.2M', '8.2M', '9.9M',\n",
       "       '4.9M', '9.5M', '5.0M', '5.9M', '13M', '73M', '6.8M', '3.5M',\n",
       "       '4.0M', '2.3M', '7.2M', '2.1M', '42M', '7.3M', '9.1M', '55M',\n",
       "       '23k', '6.5M', '1.5M', '7.5M', '51M', '41M', '48M', '8.5M', '46M',\n",
       "       '8.3M', '4.3M', '4.7M', '3.3M', '40M', '7.8M', '8.8M', '6.6M',\n",
       "       '5.1M', '61M', '66M', '79k', '8.4M', '118k', '44M', '695k', '1.6M',\n",
       "       '6.2M', '18k', '53M', '1.4M', '3.0M', '5.8M', '3.8M', '9.6M',\n",
       "       '45M', '63M', '49M', '77M', '4.4M', '4.8M', '70M', '6.9M', '9.3M',\n",
       "       '10.0M', '8.1M', '36M', '84M', '97M', '2.0M', '1.9M', '1.8M',\n",
       "       '5.3M', '47M', '556k', '526k', '76M', '7.6M', '59M', '9.7M', '78M',\n",
       "       '72M', '43M', '7.7M', '6.3M', '334k', '34M', '93M', '65M', '79M',\n",
       "       '100M', '58M', '50M', '68M', '64M', '67M', '60M', '94M', '232k',\n",
       "       '99M', '624k', '95M', '8.5k', '41k', '292k', '11k', '80M', '1.7M',\n",
       "       '74M', '62M', '69M', '75M', '98M', '85M', '82M', '96M', '87M',\n",
       "       '71M', '86M', '91M', '81M', '92M', '83M', '88M', '704k', '862k',\n",
       "       '899k', '378k', '266k', '375k', '1.3M', '975k', '980k', '4.1M',\n",
       "       '89M', '696k', '544k', '525k', '920k', '779k', '853k', '720k',\n",
       "       '713k', '772k', '318k', '58k', '241k', '196k', '857k', '51k',\n",
       "       '953k', '865k', '251k', '930k', '540k', '313k', '746k', '203k',\n",
       "       '26k', '314k', '239k', '371k', '220k', '730k', '756k', '91k',\n",
       "       '293k', '17k', '74k', '14k', '317k', '78k', '924k', '902k', '818k',\n",
       "       '81k', '939k', '169k', '45k', '475k', '965k', '90M', '545k', '61k',\n",
       "       '283k', '655k', '714k', '93k', '872k', '121k', '322k', '1.0M',\n",
       "       '976k', '172k', '238k', '549k', '206k', '954k', '444k', '717k',\n",
       "       '210k', '609k', '308k', '705k', '306k', '904k', '473k', '175k',\n",
       "       '350k', '383k', '454k', '421k', '70k', '812k', '442k', '842k',\n",
       "       '417k', '412k', '459k', '478k', '335k', '782k', '721k', '430k',\n",
       "       '429k', '192k', '200k', '460k', '728k', '496k', '816k', '414k',\n",
       "       '506k', '887k', '613k', '243k', '569k', '778k', '683k', '592k',\n",
       "       '319k', '186k', '840k', '647k', '191k', '373k', '437k', '598k',\n",
       "       '716k', '585k', '982k', '222k', '219k', '55k', '948k', '323k',\n",
       "       '691k', '511k', '951k', '963k', '25k', '554k', '351k', '27k',\n",
       "       '82k', '208k', '913k', '514k', '551k', '29k', '103k', '898k',\n",
       "       '743k', '116k', '153k', '209k', '353k', '499k', '173k', '597k',\n",
       "       '809k', '122k', '411k', '400k', '801k', '787k', '237k', '50k',\n",
       "       '643k', '986k', '97k', '516k', '837k', '780k', '961k', '269k',\n",
       "       '20k', '498k', '600k', '749k', '642k', '881k', '72k', '656k',\n",
       "       '601k', '221k', '228k', '108k', '940k', '176k', '33k', '663k',\n",
       "       '34k', '942k', '259k', '164k', '458k', '245k', '629k', '28k',\n",
       "       '288k', '775k', '785k', '636k', '916k', '994k', '309k', '485k',\n",
       "       '914k', '903k', '608k', '500k', '54k', '562k', '847k', '957k',\n",
       "       '688k', '811k', '270k', '48k', '329k', '523k', '921k', '874k',\n",
       "       '981k', '784k', '280k', '24k', '518k', '754k', '892k', '154k',\n",
       "       '860k', '364k', '387k', '626k', '161k', '879k', '39k', '970k',\n",
       "       '170k', '141k', '160k', '144k', '143k', '190k', '376k', '193k',\n",
       "       '246k', '73k', '658k', '992k', '253k', '420k', '404k', '470k',\n",
       "       '226k', '240k', '89k', '234k', '257k', '861k', '467k', '157k',\n",
       "       '44k', '676k', '67k', '552k', '885k', '1020k', '582k', '619k'],\n",
       "      dtype=object)"
      ]
     },
     "execution_count": 13,
     "metadata": {},
     "output_type": "execute_result"
    }
   ],
   "source": [
    "df_clean['Size'].unique()"
   ]
  },
  {
   "cell_type": "code",
   "execution_count": 14,
   "id": "9d249150",
   "metadata": {
    "execution": {
     "iopub.execute_input": "2025-09-08T23:19:03.088030Z",
     "iopub.status.busy": "2025-09-08T23:19:03.087744Z",
     "iopub.status.idle": "2025-09-08T23:19:03.100758Z",
     "shell.execute_reply": "2025-09-08T23:19:03.100061Z"
    },
    "papermill": {
     "duration": 0.021468,
     "end_time": "2025-09-08T23:19:03.102298",
     "exception": false,
     "start_time": "2025-09-08T23:19:03.080830",
     "status": "completed"
    },
    "tags": []
   },
   "outputs": [],
   "source": [
    "df_clean['Size'] = df_clean['Size'].str.replace(\"M\",\"000\")\n",
    "df_clean['Size'] = df_clean['Size'].str.replace(\"k\",\"\")\n",
    "df_clean['Size'] = df_clean['Size'].replace(\"Varies with device\", np.nan)"
   ]
  },
  {
   "cell_type": "code",
   "execution_count": 15,
   "id": "b3e5d7cf",
   "metadata": {
    "execution": {
     "iopub.execute_input": "2025-09-08T23:19:03.116457Z",
     "iopub.status.busy": "2025-09-08T23:19:03.116179Z",
     "iopub.status.idle": "2025-09-08T23:19:03.123563Z",
     "shell.execute_reply": "2025-09-08T23:19:03.122724Z"
    },
    "papermill": {
     "duration": 0.016149,
     "end_time": "2025-09-08T23:19:03.125252",
     "exception": false,
     "start_time": "2025-09-08T23:19:03.109103",
     "status": "completed"
    },
    "tags": []
   },
   "outputs": [
    {
     "data": {
      "text/plain": [
       "array(['19000', '14000', '8.7000', '25000', '2.8000', '5.6000', '29000',\n",
       "       '33000', '3.1000', '28000', '12000', '20000', '21000', '37000',\n",
       "       '2.7000', '5.5000', '17000', '39000', '31000', '4.2000', '7.0000',\n",
       "       '23000', '6.0000', '6.1000', '4.6000', '9.2000', '5.2000', '11000',\n",
       "       '24000', nan, '9.4000', '15000', '10000', '1.2000', '26000',\n",
       "       '8.0000', '7.9000', '56000', '57000', '35000', '54000', '201',\n",
       "       '3.6000', '5.7000', '8.6000', '2.4000', '27000', '2.5000', '16000',\n",
       "       '3.4000', '8.9000', '3.9000', '2.9000', '38000', '32000', '5.4000',\n",
       "       '18000', '1.1000', '2.2000', '4.5000', '9.8000', '52000', '9.0000',\n",
       "       '6.7000', '30000', '2.6000', '7.1000', '3.7000', '22000', '7.4000',\n",
       "       '6.4000', '3.2000', '8.2000', '9.9000', '4.9000', '9.5000',\n",
       "       '5.0000', '5.9000', '13000', '73000', '6.8000', '3.5000', '4.0000',\n",
       "       '2.3000', '7.2000', '2.1000', '42000', '7.3000', '9.1000', '55000',\n",
       "       '23', '6.5000', '1.5000', '7.5000', '51000', '41000', '48000',\n",
       "       '8.5000', '46000', '8.3000', '4.3000', '4.7000', '3.3000', '40000',\n",
       "       '7.8000', '8.8000', '6.6000', '5.1000', '61000', '66000', '79',\n",
       "       '8.4000', '118', '44000', '695', '1.6000', '6.2000', '18', '53000',\n",
       "       '1.4000', '3.0000', '5.8000', '3.8000', '9.6000', '45000', '63000',\n",
       "       '49000', '77000', '4.4000', '4.8000', '70000', '6.9000', '9.3000',\n",
       "       '10.0000', '8.1000', '36000', '84000', '97000', '2.0000', '1.9000',\n",
       "       '1.8000', '5.3000', '47000', '556', '526', '76000', '7.6000',\n",
       "       '59000', '9.7000', '78000', '72000', '43000', '7.7000', '6.3000',\n",
       "       '334', '34000', '93000', '65000', '79000', '100000', '58000',\n",
       "       '50000', '68000', '64000', '67000', '60000', '94000', '232',\n",
       "       '99000', '624', '95000', '8.5', '41', '292', '11', '80000',\n",
       "       '1.7000', '74000', '62000', '69000', '75000', '98000', '85000',\n",
       "       '82000', '96000', '87000', '71000', '86000', '91000', '81000',\n",
       "       '92000', '83000', '88000', '704', '862', '899', '378', '266',\n",
       "       '375', '1.3000', '975', '980', '4.1000', '89000', '696', '544',\n",
       "       '525', '920', '779', '853', '720', '713', '772', '318', '58',\n",
       "       '241', '196', '857', '51', '953', '865', '251', '930', '540',\n",
       "       '313', '746', '203', '26', '314', '239', '371', '220', '730',\n",
       "       '756', '91', '293', '17', '74', '14', '317', '78', '924', '902',\n",
       "       '818', '81', '939', '169', '45', '475', '965', '90000', '545',\n",
       "       '61', '283', '655', '714', '93', '872', '121', '322', '1.0000',\n",
       "       '976', '172', '238', '549', '206', '954', '444', '717', '210',\n",
       "       '609', '308', '705', '306', '904', '473', '175', '350', '383',\n",
       "       '454', '421', '70', '812', '442', '842', '417', '412', '459',\n",
       "       '478', '335', '782', '721', '430', '429', '192', '200', '460',\n",
       "       '728', '496', '816', '414', '506', '887', '613', '243', '569',\n",
       "       '778', '683', '592', '319', '186', '840', '647', '191', '373',\n",
       "       '437', '598', '716', '585', '982', '222', '219', '55', '948',\n",
       "       '323', '691', '511', '951', '963', '25', '554', '351', '27', '82',\n",
       "       '208', '913', '514', '551', '29', '103', '898', '743', '116',\n",
       "       '153', '209', '353', '499', '173', '597', '809', '122', '411',\n",
       "       '400', '801', '787', '237', '50', '643', '986', '97', '516', '837',\n",
       "       '780', '961', '269', '20', '498', '600', '749', '642', '881', '72',\n",
       "       '656', '601', '221', '228', '108', '940', '176', '33', '663', '34',\n",
       "       '942', '259', '164', '458', '245', '629', '28', '288', '775',\n",
       "       '785', '636', '916', '994', '309', '485', '914', '903', '608',\n",
       "       '500', '54', '562', '847', '957', '688', '811', '270', '48', '329',\n",
       "       '523', '921', '874', '981', '784', '280', '24', '518', '754',\n",
       "       '892', '154', '860', '364', '387', '626', '161', '879', '39',\n",
       "       '970', '170', '141', '160', '144', '143', '190', '376', '193',\n",
       "       '246', '73', '658', '992', '253', '420', '404', '470', '226',\n",
       "       '240', '89', '234', '257', '861', '467', '157', '44', '676', '67',\n",
       "       '552', '885', '1020', '582', '619'], dtype=object)"
      ]
     },
     "execution_count": 15,
     "metadata": {},
     "output_type": "execute_result"
    }
   ],
   "source": [
    "df_clean['Size'].unique()"
   ]
  },
  {
   "cell_type": "code",
   "execution_count": 16,
   "id": "6f463f08",
   "metadata": {
    "execution": {
     "iopub.execute_input": "2025-09-08T23:19:03.139103Z",
     "iopub.status.busy": "2025-09-08T23:19:03.138668Z",
     "iopub.status.idle": "2025-09-08T23:19:03.144401Z",
     "shell.execute_reply": "2025-09-08T23:19:03.143369Z"
    },
    "papermill": {
     "duration": 0.01425,
     "end_time": "2025-09-08T23:19:03.145952",
     "exception": false,
     "start_time": "2025-09-08T23:19:03.131702",
     "status": "completed"
    },
    "tags": []
   },
   "outputs": [],
   "source": [
    "df_clean['Size'] = df_clean['Size'].astype(float)"
   ]
  },
  {
   "cell_type": "code",
   "execution_count": 17,
   "id": "71b7a1b8",
   "metadata": {
    "execution": {
     "iopub.execute_input": "2025-09-08T23:19:03.159664Z",
     "iopub.status.busy": "2025-09-08T23:19:03.159367Z",
     "iopub.status.idle": "2025-09-08T23:19:03.167237Z",
     "shell.execute_reply": "2025-09-08T23:19:03.166339Z"
    },
    "papermill": {
     "duration": 0.016238,
     "end_time": "2025-09-08T23:19:03.168653",
     "exception": false,
     "start_time": "2025-09-08T23:19:03.152415",
     "status": "completed"
    },
    "tags": []
   },
   "outputs": [
    {
     "data": {
      "text/plain": [
       "Installs\n",
       "1,000,000+        1579\n",
       "10,000,000+       1252\n",
       "100,000+          1169\n",
       "10,000+           1054\n",
       "1,000+             907\n",
       "5,000,000+         752\n",
       "100+               719\n",
       "500,000+           539\n",
       "50,000+            479\n",
       "5,000+             477\n",
       "100,000,000+       409\n",
       "10+                386\n",
       "500+               330\n",
       "50,000,000+        289\n",
       "50+                205\n",
       "5+                  82\n",
       "500,000,000+        72\n",
       "1+                  67\n",
       "1,000,000,000+      58\n",
       "0+                  14\n",
       "0                    1\n",
       "Name: count, dtype: int64"
      ]
     },
     "execution_count": 17,
     "metadata": {},
     "output_type": "execute_result"
    }
   ],
   "source": [
    "df_clean['Installs'].value_counts()"
   ]
  },
  {
   "cell_type": "code",
   "execution_count": 18,
   "id": "a7068fa9",
   "metadata": {
    "execution": {
     "iopub.execute_input": "2025-09-08T23:19:03.183516Z",
     "iopub.status.busy": "2025-09-08T23:19:03.182587Z",
     "iopub.status.idle": "2025-09-08T23:19:03.189395Z",
     "shell.execute_reply": "2025-09-08T23:19:03.188218Z"
    },
    "papermill": {
     "duration": 0.015482,
     "end_time": "2025-09-08T23:19:03.190970",
     "exception": false,
     "start_time": "2025-09-08T23:19:03.175488",
     "status": "completed"
    },
    "tags": []
   },
   "outputs": [
    {
     "data": {
      "text/plain": [
       "array(['10,000+', '500,000+', '5,000,000+', '50,000,000+', '100,000+',\n",
       "       '50,000+', '1,000,000+', '10,000,000+', '5,000+', '100,000,000+',\n",
       "       '1,000,000,000+', '1,000+', '500,000,000+', '50+', '100+', '500+',\n",
       "       '10+', '1+', '5+', '0+', '0'], dtype=object)"
      ]
     },
     "execution_count": 18,
     "metadata": {},
     "output_type": "execute_result"
    }
   ],
   "source": [
    "df_clean['Installs'].unique()"
   ]
  },
  {
   "cell_type": "code",
   "execution_count": 19,
   "id": "e01b3ff7",
   "metadata": {
    "execution": {
     "iopub.execute_input": "2025-09-08T23:19:03.205311Z",
     "iopub.status.busy": "2025-09-08T23:19:03.204969Z",
     "iopub.status.idle": "2025-09-08T23:19:03.211900Z",
     "shell.execute_reply": "2025-09-08T23:19:03.210901Z"
    },
    "papermill": {
     "duration": 0.01593,
     "end_time": "2025-09-08T23:19:03.213669",
     "exception": false,
     "start_time": "2025-09-08T23:19:03.197739",
     "status": "completed"
    },
    "tags": []
   },
   "outputs": [
    {
     "data": {
      "text/plain": [
       "array(['0', '$4.99', '$3.99', '$6.99', '$1.49', '$2.99', '$7.99', '$5.99',\n",
       "       '$3.49', '$1.99', '$9.99', '$7.49', '$0.99', '$9.00', '$5.49',\n",
       "       '$10.00', '$24.99', '$11.99', '$79.99', '$16.99', '$14.99',\n",
       "       '$1.00', '$29.99', '$12.99', '$2.49', '$10.99', '$1.50', '$19.99',\n",
       "       '$15.99', '$33.99', '$74.99', '$39.99', '$3.95', '$4.49', '$1.70',\n",
       "       '$8.99', '$2.00', '$3.88', '$25.99', '$399.99', '$17.99',\n",
       "       '$400.00', '$3.02', '$1.76', '$4.84', '$4.77', '$1.61', '$2.50',\n",
       "       '$1.59', '$6.49', '$1.29', '$5.00', '$13.99', '$299.99', '$379.99',\n",
       "       '$37.99', '$18.99', '$389.99', '$19.90', '$8.49', '$1.75',\n",
       "       '$14.00', '$4.85', '$46.99', '$109.99', '$154.99', '$3.08',\n",
       "       '$2.59', '$4.80', '$1.96', '$19.40', '$3.90', '$4.59', '$15.46',\n",
       "       '$3.04', '$4.29', '$2.60', '$3.28', '$4.60', '$28.99', '$2.95',\n",
       "       '$2.90', '$1.97', '$200.00', '$89.99', '$2.56', '$30.99', '$3.61',\n",
       "       '$394.99', '$1.26', '$1.20', '$1.04'], dtype=object)"
      ]
     },
     "execution_count": 19,
     "metadata": {},
     "output_type": "execute_result"
    }
   ],
   "source": [
    "df_clean['Price'].unique()"
   ]
  },
  {
   "cell_type": "code",
   "execution_count": 20,
   "id": "d1d80899",
   "metadata": {
    "execution": {
     "iopub.execute_input": "2025-09-08T23:19:03.228105Z",
     "iopub.status.busy": "2025-09-08T23:19:03.227739Z",
     "iopub.status.idle": "2025-09-08T23:19:03.232041Z",
     "shell.execute_reply": "2025-09-08T23:19:03.231267Z"
    },
    "papermill": {
     "duration": 0.013107,
     "end_time": "2025-09-08T23:19:03.233484",
     "exception": false,
     "start_time": "2025-09-08T23:19:03.220377",
     "status": "completed"
    },
    "tags": []
   },
   "outputs": [],
   "source": [
    "chars_to_remove = [\"+\",\",\",\"$\"]\n",
    "cols_to_clean = ['Installs','Price']"
   ]
  },
  {
   "cell_type": "code",
   "execution_count": 21,
   "id": "f242d69f",
   "metadata": {
    "execution": {
     "iopub.execute_input": "2025-09-08T23:19:03.247893Z",
     "iopub.status.busy": "2025-09-08T23:19:03.247505Z",
     "iopub.status.idle": "2025-09-08T23:19:03.268167Z",
     "shell.execute_reply": "2025-09-08T23:19:03.267063Z"
    },
    "papermill": {
     "duration": 0.029599,
     "end_time": "2025-09-08T23:19:03.269748",
     "exception": false,
     "start_time": "2025-09-08T23:19:03.240149",
     "status": "completed"
    },
    "tags": []
   },
   "outputs": [],
   "source": [
    "for item in chars_to_remove:\n",
    "    for cols in cols_to_clean:\n",
    "        df_clean[cols] = df_clean[cols].str.replace(item,\"\")\n"
   ]
  },
  {
   "cell_type": "code",
   "execution_count": 22,
   "id": "4b3c993b",
   "metadata": {
    "execution": {
     "iopub.execute_input": "2025-09-08T23:19:03.284052Z",
     "iopub.status.busy": "2025-09-08T23:19:03.283720Z",
     "iopub.status.idle": "2025-09-08T23:19:03.290251Z",
     "shell.execute_reply": "2025-09-08T23:19:03.289424Z"
    },
    "papermill": {
     "duration": 0.01515,
     "end_time": "2025-09-08T23:19:03.291543",
     "exception": false,
     "start_time": "2025-09-08T23:19:03.276393",
     "status": "completed"
    },
    "tags": []
   },
   "outputs": [
    {
     "data": {
      "text/plain": [
       "array(['0', '4.99', '3.99', '6.99', '1.49', '2.99', '7.99', '5.99',\n",
       "       '3.49', '1.99', '9.99', '7.49', '0.99', '9.00', '5.49', '10.00',\n",
       "       '24.99', '11.99', '79.99', '16.99', '14.99', '1.00', '29.99',\n",
       "       '12.99', '2.49', '10.99', '1.50', '19.99', '15.99', '33.99',\n",
       "       '74.99', '39.99', '3.95', '4.49', '1.70', '8.99', '2.00', '3.88',\n",
       "       '25.99', '399.99', '17.99', '400.00', '3.02', '1.76', '4.84',\n",
       "       '4.77', '1.61', '2.50', '1.59', '6.49', '1.29', '5.00', '13.99',\n",
       "       '299.99', '379.99', '37.99', '18.99', '389.99', '19.90', '8.49',\n",
       "       '1.75', '14.00', '4.85', '46.99', '109.99', '154.99', '3.08',\n",
       "       '2.59', '4.80', '1.96', '19.40', '3.90', '4.59', '15.46', '3.04',\n",
       "       '4.29', '2.60', '3.28', '4.60', '28.99', '2.95', '2.90', '1.97',\n",
       "       '200.00', '89.99', '2.56', '30.99', '3.61', '394.99', '1.26',\n",
       "       '1.20', '1.04'], dtype=object)"
      ]
     },
     "execution_count": 22,
     "metadata": {},
     "output_type": "execute_result"
    }
   ],
   "source": [
    "df_clean['Price'].unique()"
   ]
  },
  {
   "cell_type": "code",
   "execution_count": 23,
   "id": "6ab2cbf9",
   "metadata": {
    "execution": {
     "iopub.execute_input": "2025-09-08T23:19:03.306597Z",
     "iopub.status.busy": "2025-09-08T23:19:03.306321Z",
     "iopub.status.idle": "2025-09-08T23:19:03.312823Z",
     "shell.execute_reply": "2025-09-08T23:19:03.311917Z"
    },
    "papermill": {
     "duration": 0.016168,
     "end_time": "2025-09-08T23:19:03.314477",
     "exception": false,
     "start_time": "2025-09-08T23:19:03.298309",
     "status": "completed"
    },
    "tags": []
   },
   "outputs": [
    {
     "data": {
      "text/plain": [
       "array(['10000', '500000', '5000000', '50000000', '100000', '50000',\n",
       "       '1000000', '10000000', '5000', '100000000', '1000000000', '1000',\n",
       "       '500000000', '50', '100', '500', '10', '1', '5', '0'], dtype=object)"
      ]
     },
     "execution_count": 23,
     "metadata": {},
     "output_type": "execute_result"
    }
   ],
   "source": [
    "df_clean['Installs'].unique()"
   ]
  },
  {
   "cell_type": "code",
   "execution_count": 24,
   "id": "e38d3eb9",
   "metadata": {
    "execution": {
     "iopub.execute_input": "2025-09-08T23:19:03.329283Z",
     "iopub.status.busy": "2025-09-08T23:19:03.328912Z",
     "iopub.status.idle": "2025-09-08T23:19:03.334536Z",
     "shell.execute_reply": "2025-09-08T23:19:03.333747Z"
    },
    "papermill": {
     "duration": 0.014277,
     "end_time": "2025-09-08T23:19:03.335952",
     "exception": false,
     "start_time": "2025-09-08T23:19:03.321675",
     "status": "completed"
    },
    "tags": []
   },
   "outputs": [],
   "source": [
    "df_clean['Price'] = df_clean['Price'].astype(float)"
   ]
  },
  {
   "cell_type": "code",
   "execution_count": 25,
   "id": "ebb0e0c3",
   "metadata": {
    "execution": {
     "iopub.execute_input": "2025-09-08T23:19:03.350659Z",
     "iopub.status.busy": "2025-09-08T23:19:03.350141Z",
     "iopub.status.idle": "2025-09-08T23:19:03.355727Z",
     "shell.execute_reply": "2025-09-08T23:19:03.354712Z"
    },
    "papermill": {
     "duration": 0.014421,
     "end_time": "2025-09-08T23:19:03.357143",
     "exception": false,
     "start_time": "2025-09-08T23:19:03.342722",
     "status": "completed"
    },
    "tags": []
   },
   "outputs": [],
   "source": [
    "df_clean['Installs'] = df_clean['Installs'].astype(int)"
   ]
  },
  {
   "cell_type": "code",
   "execution_count": 26,
   "id": "cb0433ce",
   "metadata": {
    "execution": {
     "iopub.execute_input": "2025-09-08T23:19:03.373090Z",
     "iopub.status.busy": "2025-09-08T23:19:03.371959Z",
     "iopub.status.idle": "2025-09-08T23:19:03.387143Z",
     "shell.execute_reply": "2025-09-08T23:19:03.385980Z"
    },
    "papermill": {
     "duration": 0.024462,
     "end_time": "2025-09-08T23:19:03.388879",
     "exception": false,
     "start_time": "2025-09-08T23:19:03.364417",
     "status": "completed"
    },
    "tags": []
   },
   "outputs": [
    {
     "name": "stdout",
     "output_type": "stream",
     "text": [
      "<class 'pandas.core.frame.DataFrame'>\n",
      "Index: 10840 entries, 0 to 10840\n",
      "Data columns (total 13 columns):\n",
      " #   Column          Non-Null Count  Dtype  \n",
      "---  ------          --------------  -----  \n",
      " 0   App             10840 non-null  object \n",
      " 1   Category        10840 non-null  object \n",
      " 2   Rating          9366 non-null   float64\n",
      " 3   Reviews         10840 non-null  int64  \n",
      " 4   Size            9145 non-null   float64\n",
      " 5   Installs        10840 non-null  int64  \n",
      " 6   Type            10839 non-null  object \n",
      " 7   Price           10840 non-null  float64\n",
      " 8   Content Rating  10840 non-null  object \n",
      " 9   Genres          10840 non-null  object \n",
      " 10  Last Updated    10840 non-null  object \n",
      " 11  Current Ver     10832 non-null  object \n",
      " 12  Android Ver     10838 non-null  object \n",
      "dtypes: float64(3), int64(2), object(8)\n",
      "memory usage: 1.2+ MB\n"
     ]
    }
   ],
   "source": [
    "df_clean.info()"
   ]
  },
  {
   "cell_type": "code",
   "execution_count": 27,
   "id": "befe6961",
   "metadata": {
    "execution": {
     "iopub.execute_input": "2025-09-08T23:19:03.403508Z",
     "iopub.status.busy": "2025-09-08T23:19:03.403254Z",
     "iopub.status.idle": "2025-09-08T23:19:03.410074Z",
     "shell.execute_reply": "2025-09-08T23:19:03.409087Z"
    },
    "papermill": {
     "duration": 0.015816,
     "end_time": "2025-09-08T23:19:03.411687",
     "exception": false,
     "start_time": "2025-09-08T23:19:03.395871",
     "status": "completed"
    },
    "tags": []
   },
   "outputs": [
    {
     "data": {
      "text/plain": [
       "0         January 7, 2018\n",
       "1        January 15, 2018\n",
       "2          August 1, 2018\n",
       "3            June 8, 2018\n",
       "4           June 20, 2018\n",
       "               ...       \n",
       "10836       July 25, 2017\n",
       "10837        July 6, 2018\n",
       "10838    January 20, 2017\n",
       "10839    January 19, 2015\n",
       "10840       July 25, 2018\n",
       "Name: Last Updated, Length: 10840, dtype: object"
      ]
     },
     "execution_count": 27,
     "metadata": {},
     "output_type": "execute_result"
    }
   ],
   "source": [
    "df_clean['Last Updated']"
   ]
  },
  {
   "cell_type": "code",
   "execution_count": 28,
   "id": "b78eb023",
   "metadata": {
    "execution": {
     "iopub.execute_input": "2025-09-08T23:19:03.426496Z",
     "iopub.status.busy": "2025-09-08T23:19:03.426253Z",
     "iopub.status.idle": "2025-09-08T23:19:03.441577Z",
     "shell.execute_reply": "2025-09-08T23:19:03.440861Z"
    },
    "papermill": {
     "duration": 0.024497,
     "end_time": "2025-09-08T23:19:03.443206",
     "exception": false,
     "start_time": "2025-09-08T23:19:03.418709",
     "status": "completed"
    },
    "tags": []
   },
   "outputs": [],
   "source": [
    "df_clean['Last Updated'] = pd.to_datetime(df_clean['Last Updated'])"
   ]
  },
  {
   "cell_type": "code",
   "execution_count": 29,
   "id": "63a02900",
   "metadata": {
    "execution": {
     "iopub.execute_input": "2025-09-08T23:19:03.457896Z",
     "iopub.status.busy": "2025-09-08T23:19:03.457518Z",
     "iopub.status.idle": "2025-09-08T23:19:03.471704Z",
     "shell.execute_reply": "2025-09-08T23:19:03.470910Z"
    },
    "papermill": {
     "duration": 0.023313,
     "end_time": "2025-09-08T23:19:03.473271",
     "exception": false,
     "start_time": "2025-09-08T23:19:03.449958",
     "status": "completed"
    },
    "tags": []
   },
   "outputs": [
    {
     "data": {
      "text/html": [
       "<div>\n",
       "<style scoped>\n",
       "    .dataframe tbody tr th:only-of-type {\n",
       "        vertical-align: middle;\n",
       "    }\n",
       "\n",
       "    .dataframe tbody tr th {\n",
       "        vertical-align: top;\n",
       "    }\n",
       "\n",
       "    .dataframe thead th {\n",
       "        text-align: right;\n",
       "    }\n",
       "</style>\n",
       "<table border=\"1\" class=\"dataframe\">\n",
       "  <thead>\n",
       "    <tr style=\"text-align: right;\">\n",
       "      <th></th>\n",
       "      <th>App</th>\n",
       "      <th>Category</th>\n",
       "      <th>Rating</th>\n",
       "      <th>Reviews</th>\n",
       "      <th>Size</th>\n",
       "      <th>Installs</th>\n",
       "      <th>Type</th>\n",
       "      <th>Price</th>\n",
       "      <th>Content Rating</th>\n",
       "      <th>Genres</th>\n",
       "      <th>Last Updated</th>\n",
       "      <th>Current Ver</th>\n",
       "      <th>Android Ver</th>\n",
       "    </tr>\n",
       "  </thead>\n",
       "  <tbody>\n",
       "    <tr>\n",
       "      <th>0</th>\n",
       "      <td>Photo Editor &amp; Candy Camera &amp; Grid &amp; ScrapBook</td>\n",
       "      <td>ART_AND_DESIGN</td>\n",
       "      <td>4.1</td>\n",
       "      <td>159</td>\n",
       "      <td>19000.0</td>\n",
       "      <td>10000</td>\n",
       "      <td>Free</td>\n",
       "      <td>0.0</td>\n",
       "      <td>Everyone</td>\n",
       "      <td>Art &amp; Design</td>\n",
       "      <td>2018-01-07</td>\n",
       "      <td>1.0.0</td>\n",
       "      <td>4.0.3 and up</td>\n",
       "    </tr>\n",
       "    <tr>\n",
       "      <th>1</th>\n",
       "      <td>Coloring book moana</td>\n",
       "      <td>ART_AND_DESIGN</td>\n",
       "      <td>3.9</td>\n",
       "      <td>967</td>\n",
       "      <td>14000.0</td>\n",
       "      <td>500000</td>\n",
       "      <td>Free</td>\n",
       "      <td>0.0</td>\n",
       "      <td>Everyone</td>\n",
       "      <td>Art &amp; Design;Pretend Play</td>\n",
       "      <td>2018-01-15</td>\n",
       "      <td>2.0.0</td>\n",
       "      <td>4.0.3 and up</td>\n",
       "    </tr>\n",
       "    <tr>\n",
       "      <th>2</th>\n",
       "      <td>U Launcher Lite – FREE Live Cool Themes, Hide ...</td>\n",
       "      <td>ART_AND_DESIGN</td>\n",
       "      <td>4.7</td>\n",
       "      <td>87510</td>\n",
       "      <td>8.7</td>\n",
       "      <td>5000000</td>\n",
       "      <td>Free</td>\n",
       "      <td>0.0</td>\n",
       "      <td>Everyone</td>\n",
       "      <td>Art &amp; Design</td>\n",
       "      <td>2018-08-01</td>\n",
       "      <td>1.2.4</td>\n",
       "      <td>4.0.3 and up</td>\n",
       "    </tr>\n",
       "    <tr>\n",
       "      <th>3</th>\n",
       "      <td>Sketch - Draw &amp; Paint</td>\n",
       "      <td>ART_AND_DESIGN</td>\n",
       "      <td>4.5</td>\n",
       "      <td>215644</td>\n",
       "      <td>25000.0</td>\n",
       "      <td>50000000</td>\n",
       "      <td>Free</td>\n",
       "      <td>0.0</td>\n",
       "      <td>Teen</td>\n",
       "      <td>Art &amp; Design</td>\n",
       "      <td>2018-06-08</td>\n",
       "      <td>Varies with device</td>\n",
       "      <td>4.2 and up</td>\n",
       "    </tr>\n",
       "    <tr>\n",
       "      <th>4</th>\n",
       "      <td>Pixel Draw - Number Art Coloring Book</td>\n",
       "      <td>ART_AND_DESIGN</td>\n",
       "      <td>4.3</td>\n",
       "      <td>967</td>\n",
       "      <td>2.8</td>\n",
       "      <td>100000</td>\n",
       "      <td>Free</td>\n",
       "      <td>0.0</td>\n",
       "      <td>Everyone</td>\n",
       "      <td>Art &amp; Design;Creativity</td>\n",
       "      <td>2018-06-20</td>\n",
       "      <td>1.1</td>\n",
       "      <td>4.4 and up</td>\n",
       "    </tr>\n",
       "  </tbody>\n",
       "</table>\n",
       "</div>"
      ],
      "text/plain": [
       "                                                 App        Category  Rating  \\\n",
       "0     Photo Editor & Candy Camera & Grid & ScrapBook  ART_AND_DESIGN     4.1   \n",
       "1                                Coloring book moana  ART_AND_DESIGN     3.9   \n",
       "2  U Launcher Lite – FREE Live Cool Themes, Hide ...  ART_AND_DESIGN     4.7   \n",
       "3                              Sketch - Draw & Paint  ART_AND_DESIGN     4.5   \n",
       "4              Pixel Draw - Number Art Coloring Book  ART_AND_DESIGN     4.3   \n",
       "\n",
       "   Reviews     Size  Installs  Type  Price Content Rating  \\\n",
       "0      159  19000.0     10000  Free    0.0       Everyone   \n",
       "1      967  14000.0    500000  Free    0.0       Everyone   \n",
       "2    87510      8.7   5000000  Free    0.0       Everyone   \n",
       "3   215644  25000.0  50000000  Free    0.0           Teen   \n",
       "4      967      2.8    100000  Free    0.0       Everyone   \n",
       "\n",
       "                      Genres Last Updated         Current Ver   Android Ver  \n",
       "0               Art & Design   2018-01-07               1.0.0  4.0.3 and up  \n",
       "1  Art & Design;Pretend Play   2018-01-15               2.0.0  4.0.3 and up  \n",
       "2               Art & Design   2018-08-01               1.2.4  4.0.3 and up  \n",
       "3               Art & Design   2018-06-08  Varies with device    4.2 and up  \n",
       "4    Art & Design;Creativity   2018-06-20                 1.1    4.4 and up  "
      ]
     },
     "execution_count": 29,
     "metadata": {},
     "output_type": "execute_result"
    }
   ],
   "source": [
    "df_clean.head()"
   ]
  },
  {
   "cell_type": "code",
   "execution_count": 30,
   "id": "34d0a965",
   "metadata": {
    "execution": {
     "iopub.execute_input": "2025-09-08T23:19:03.542481Z",
     "iopub.status.busy": "2025-09-08T23:19:03.541871Z",
     "iopub.status.idle": "2025-09-08T23:19:03.549755Z",
     "shell.execute_reply": "2025-09-08T23:19:03.548954Z"
    },
    "papermill": {
     "duration": 0.017561,
     "end_time": "2025-09-08T23:19:03.551578",
     "exception": false,
     "start_time": "2025-09-08T23:19:03.534017",
     "status": "completed"
    },
    "tags": []
   },
   "outputs": [],
   "source": [
    "df_clean['Day'] = df_clean['Last Updated'].dt.day\n",
    "df_clean['Month'] = df_clean['Last Updated'].dt.month\n",
    "df_clean['Year'] = df_clean['Last Updated'].dt.year"
   ]
  },
  {
   "cell_type": "code",
   "execution_count": 31,
   "id": "c6ca0664",
   "metadata": {
    "execution": {
     "iopub.execute_input": "2025-09-08T23:19:03.566810Z",
     "iopub.status.busy": "2025-09-08T23:19:03.566529Z",
     "iopub.status.idle": "2025-09-08T23:19:03.581068Z",
     "shell.execute_reply": "2025-09-08T23:19:03.580093Z"
    },
    "papermill": {
     "duration": 0.023817,
     "end_time": "2025-09-08T23:19:03.582562",
     "exception": false,
     "start_time": "2025-09-08T23:19:03.558745",
     "status": "completed"
    },
    "tags": []
   },
   "outputs": [
    {
     "data": {
      "text/html": [
       "<div>\n",
       "<style scoped>\n",
       "    .dataframe tbody tr th:only-of-type {\n",
       "        vertical-align: middle;\n",
       "    }\n",
       "\n",
       "    .dataframe tbody tr th {\n",
       "        vertical-align: top;\n",
       "    }\n",
       "\n",
       "    .dataframe thead th {\n",
       "        text-align: right;\n",
       "    }\n",
       "</style>\n",
       "<table border=\"1\" class=\"dataframe\">\n",
       "  <thead>\n",
       "    <tr style=\"text-align: right;\">\n",
       "      <th></th>\n",
       "      <th>App</th>\n",
       "      <th>Category</th>\n",
       "      <th>Rating</th>\n",
       "      <th>Reviews</th>\n",
       "      <th>Size</th>\n",
       "      <th>Installs</th>\n",
       "      <th>Type</th>\n",
       "      <th>Price</th>\n",
       "      <th>Content Rating</th>\n",
       "      <th>Genres</th>\n",
       "      <th>Last Updated</th>\n",
       "      <th>Current Ver</th>\n",
       "      <th>Android Ver</th>\n",
       "      <th>Day</th>\n",
       "      <th>Month</th>\n",
       "      <th>Year</th>\n",
       "    </tr>\n",
       "  </thead>\n",
       "  <tbody>\n",
       "    <tr>\n",
       "      <th>0</th>\n",
       "      <td>Photo Editor &amp; Candy Camera &amp; Grid &amp; ScrapBook</td>\n",
       "      <td>ART_AND_DESIGN</td>\n",
       "      <td>4.1</td>\n",
       "      <td>159</td>\n",
       "      <td>19000.0</td>\n",
       "      <td>10000</td>\n",
       "      <td>Free</td>\n",
       "      <td>0.0</td>\n",
       "      <td>Everyone</td>\n",
       "      <td>Art &amp; Design</td>\n",
       "      <td>2018-01-07</td>\n",
       "      <td>1.0.0</td>\n",
       "      <td>4.0.3 and up</td>\n",
       "      <td>7</td>\n",
       "      <td>1</td>\n",
       "      <td>2018</td>\n",
       "    </tr>\n",
       "    <tr>\n",
       "      <th>1</th>\n",
       "      <td>Coloring book moana</td>\n",
       "      <td>ART_AND_DESIGN</td>\n",
       "      <td>3.9</td>\n",
       "      <td>967</td>\n",
       "      <td>14000.0</td>\n",
       "      <td>500000</td>\n",
       "      <td>Free</td>\n",
       "      <td>0.0</td>\n",
       "      <td>Everyone</td>\n",
       "      <td>Art &amp; Design;Pretend Play</td>\n",
       "      <td>2018-01-15</td>\n",
       "      <td>2.0.0</td>\n",
       "      <td>4.0.3 and up</td>\n",
       "      <td>15</td>\n",
       "      <td>1</td>\n",
       "      <td>2018</td>\n",
       "    </tr>\n",
       "    <tr>\n",
       "      <th>2</th>\n",
       "      <td>U Launcher Lite – FREE Live Cool Themes, Hide ...</td>\n",
       "      <td>ART_AND_DESIGN</td>\n",
       "      <td>4.7</td>\n",
       "      <td>87510</td>\n",
       "      <td>8.7</td>\n",
       "      <td>5000000</td>\n",
       "      <td>Free</td>\n",
       "      <td>0.0</td>\n",
       "      <td>Everyone</td>\n",
       "      <td>Art &amp; Design</td>\n",
       "      <td>2018-08-01</td>\n",
       "      <td>1.2.4</td>\n",
       "      <td>4.0.3 and up</td>\n",
       "      <td>1</td>\n",
       "      <td>8</td>\n",
       "      <td>2018</td>\n",
       "    </tr>\n",
       "    <tr>\n",
       "      <th>3</th>\n",
       "      <td>Sketch - Draw &amp; Paint</td>\n",
       "      <td>ART_AND_DESIGN</td>\n",
       "      <td>4.5</td>\n",
       "      <td>215644</td>\n",
       "      <td>25000.0</td>\n",
       "      <td>50000000</td>\n",
       "      <td>Free</td>\n",
       "      <td>0.0</td>\n",
       "      <td>Teen</td>\n",
       "      <td>Art &amp; Design</td>\n",
       "      <td>2018-06-08</td>\n",
       "      <td>Varies with device</td>\n",
       "      <td>4.2 and up</td>\n",
       "      <td>8</td>\n",
       "      <td>6</td>\n",
       "      <td>2018</td>\n",
       "    </tr>\n",
       "    <tr>\n",
       "      <th>4</th>\n",
       "      <td>Pixel Draw - Number Art Coloring Book</td>\n",
       "      <td>ART_AND_DESIGN</td>\n",
       "      <td>4.3</td>\n",
       "      <td>967</td>\n",
       "      <td>2.8</td>\n",
       "      <td>100000</td>\n",
       "      <td>Free</td>\n",
       "      <td>0.0</td>\n",
       "      <td>Everyone</td>\n",
       "      <td>Art &amp; Design;Creativity</td>\n",
       "      <td>2018-06-20</td>\n",
       "      <td>1.1</td>\n",
       "      <td>4.4 and up</td>\n",
       "      <td>20</td>\n",
       "      <td>6</td>\n",
       "      <td>2018</td>\n",
       "    </tr>\n",
       "  </tbody>\n",
       "</table>\n",
       "</div>"
      ],
      "text/plain": [
       "                                                 App        Category  Rating  \\\n",
       "0     Photo Editor & Candy Camera & Grid & ScrapBook  ART_AND_DESIGN     4.1   \n",
       "1                                Coloring book moana  ART_AND_DESIGN     3.9   \n",
       "2  U Launcher Lite – FREE Live Cool Themes, Hide ...  ART_AND_DESIGN     4.7   \n",
       "3                              Sketch - Draw & Paint  ART_AND_DESIGN     4.5   \n",
       "4              Pixel Draw - Number Art Coloring Book  ART_AND_DESIGN     4.3   \n",
       "\n",
       "   Reviews     Size  Installs  Type  Price Content Rating  \\\n",
       "0      159  19000.0     10000  Free    0.0       Everyone   \n",
       "1      967  14000.0    500000  Free    0.0       Everyone   \n",
       "2    87510      8.7   5000000  Free    0.0       Everyone   \n",
       "3   215644  25000.0  50000000  Free    0.0           Teen   \n",
       "4      967      2.8    100000  Free    0.0       Everyone   \n",
       "\n",
       "                      Genres Last Updated         Current Ver   Android Ver  \\\n",
       "0               Art & Design   2018-01-07               1.0.0  4.0.3 and up   \n",
       "1  Art & Design;Pretend Play   2018-01-15               2.0.0  4.0.3 and up   \n",
       "2               Art & Design   2018-08-01               1.2.4  4.0.3 and up   \n",
       "3               Art & Design   2018-06-08  Varies with device    4.2 and up   \n",
       "4    Art & Design;Creativity   2018-06-20                 1.1    4.4 and up   \n",
       "\n",
       "   Day  Month  Year  \n",
       "0    7      1  2018  \n",
       "1   15      1  2018  \n",
       "2    1      8  2018  \n",
       "3    8      6  2018  \n",
       "4   20      6  2018  "
      ]
     },
     "execution_count": 31,
     "metadata": {},
     "output_type": "execute_result"
    }
   ],
   "source": [
    "df_clean.head()"
   ]
  },
  {
   "cell_type": "code",
   "execution_count": 32,
   "id": "6b2934cd",
   "metadata": {
    "execution": {
     "iopub.execute_input": "2025-09-08T23:19:03.598661Z",
     "iopub.status.busy": "2025-09-08T23:19:03.598358Z",
     "iopub.status.idle": "2025-09-08T23:19:03.607854Z",
     "shell.execute_reply": "2025-09-08T23:19:03.607033Z"
    },
    "papermill": {
     "duration": 0.0193,
     "end_time": "2025-09-08T23:19:03.609508",
     "exception": false,
     "start_time": "2025-09-08T23:19:03.590208",
     "status": "completed"
    },
    "tags": []
   },
   "outputs": [],
   "source": [
    "df_clean = df_clean.drop_duplicates(subset=['App'],keep='first')"
   ]
  },
  {
   "cell_type": "code",
   "execution_count": 33,
   "id": "40bb30fb",
   "metadata": {
    "execution": {
     "iopub.execute_input": "2025-09-08T23:19:03.625481Z",
     "iopub.status.busy": "2025-09-08T23:19:03.625184Z",
     "iopub.status.idle": "2025-09-08T23:19:03.640450Z",
     "shell.execute_reply": "2025-09-08T23:19:03.639511Z"
    },
    "papermill": {
     "duration": 0.02572,
     "end_time": "2025-09-08T23:19:03.642489",
     "exception": false,
     "start_time": "2025-09-08T23:19:03.616769",
     "status": "completed"
    },
    "tags": []
   },
   "outputs": [
    {
     "name": "stdout",
     "output_type": "stream",
     "text": [
      "<class 'pandas.core.frame.DataFrame'>\n",
      "Index: 9659 entries, 0 to 10840\n",
      "Data columns (total 16 columns):\n",
      " #   Column          Non-Null Count  Dtype         \n",
      "---  ------          --------------  -----         \n",
      " 0   App             9659 non-null   object        \n",
      " 1   Category        9659 non-null   object        \n",
      " 2   Rating          8196 non-null   float64       \n",
      " 3   Reviews         9659 non-null   int64         \n",
      " 4   Size            8432 non-null   float64       \n",
      " 5   Installs        9659 non-null   int64         \n",
      " 6   Type            9658 non-null   object        \n",
      " 7   Price           9659 non-null   float64       \n",
      " 8   Content Rating  9659 non-null   object        \n",
      " 9   Genres          9659 non-null   object        \n",
      " 10  Last Updated    9659 non-null   datetime64[ns]\n",
      " 11  Current Ver     9651 non-null   object        \n",
      " 12  Android Ver     9657 non-null   object        \n",
      " 13  Day             9659 non-null   int32         \n",
      " 14  Month           9659 non-null   int32         \n",
      " 15  Year            9659 non-null   int32         \n",
      "dtypes: datetime64[ns](1), float64(3), int32(3), int64(2), object(7)\n",
      "memory usage: 1.1+ MB\n"
     ]
    }
   ],
   "source": [
    "df_clean.info()"
   ]
  },
  {
   "cell_type": "code",
   "execution_count": 34,
   "id": "c879dfad",
   "metadata": {
    "execution": {
     "iopub.execute_input": "2025-09-08T23:19:03.659124Z",
     "iopub.status.busy": "2025-09-08T23:19:03.658762Z",
     "iopub.status.idle": "2025-09-08T23:19:03.663915Z",
     "shell.execute_reply": "2025-09-08T23:19:03.663023Z"
    },
    "papermill": {
     "duration": 0.015938,
     "end_time": "2025-09-08T23:19:03.665886",
     "exception": false,
     "start_time": "2025-09-08T23:19:03.649948",
     "status": "completed"
    },
    "tags": []
   },
   "outputs": [],
   "source": [
    "numeric_features = [feature for feature in df_clean.columns if df_clean[feature].dtype!='O']\n",
    "categorical_features = [feature for feature in df_clean.columns if df_clean[feature].dtype=='O']"
   ]
  },
  {
   "cell_type": "code",
   "execution_count": 35,
   "id": "98de4c5e",
   "metadata": {
    "execution": {
     "iopub.execute_input": "2025-09-08T23:19:03.681922Z",
     "iopub.status.busy": "2025-09-08T23:19:03.681586Z",
     "iopub.status.idle": "2025-09-08T23:19:03.686662Z",
     "shell.execute_reply": "2025-09-08T23:19:03.685624Z"
    },
    "papermill": {
     "duration": 0.014744,
     "end_time": "2025-09-08T23:19:03.688148",
     "exception": false,
     "start_time": "2025-09-08T23:19:03.673404",
     "status": "completed"
    },
    "tags": []
   },
   "outputs": [
    {
     "name": "stdout",
     "output_type": "stream",
     "text": [
      "['Rating', 'Reviews', 'Size', 'Installs', 'Price', 'Last Updated', 'Day', 'Month', 'Year']\n"
     ]
    }
   ],
   "source": [
    "print(numeric_features)"
   ]
  },
  {
   "cell_type": "code",
   "execution_count": 36,
   "id": "afdc5216",
   "metadata": {
    "execution": {
     "iopub.execute_input": "2025-09-08T23:19:03.704106Z",
     "iopub.status.busy": "2025-09-08T23:19:03.703756Z",
     "iopub.status.idle": "2025-09-08T23:19:03.708304Z",
     "shell.execute_reply": "2025-09-08T23:19:03.707319Z"
    },
    "papermill": {
     "duration": 0.014429,
     "end_time": "2025-09-08T23:19:03.710032",
     "exception": false,
     "start_time": "2025-09-08T23:19:03.695603",
     "status": "completed"
    },
    "tags": []
   },
   "outputs": [
    {
     "name": "stdout",
     "output_type": "stream",
     "text": [
      "['App', 'Category', 'Type', 'Content Rating', 'Genres', 'Current Ver', 'Android Ver']\n"
     ]
    }
   ],
   "source": [
    "print(categorical_features)"
   ]
  },
  {
   "cell_type": "code",
   "execution_count": 37,
   "id": "af9eb5f7",
   "metadata": {
    "execution": {
     "iopub.execute_input": "2025-09-08T23:19:03.726460Z",
     "iopub.status.busy": "2025-09-08T23:19:03.726166Z",
     "iopub.status.idle": "2025-09-08T23:19:06.498401Z",
     "shell.execute_reply": "2025-09-08T23:19:06.497505Z"
    },
    "papermill": {
     "duration": 2.782831,
     "end_time": "2025-09-08T23:19:06.500435",
     "exception": false,
     "start_time": "2025-09-08T23:19:03.717604",
     "status": "completed"
    },
    "tags": []
   },
   "outputs": [
    {
     "name": "stderr",
     "output_type": "stream",
     "text": [
      "/usr/local/lib/python3.11/dist-packages/seaborn/_oldcore.py:1119: FutureWarning: use_inf_as_na option is deprecated and will be removed in a future version. Convert inf values to NaN before operating instead.\n",
      "  with pd.option_context('mode.use_inf_as_na', True):\n",
      "/usr/local/lib/python3.11/dist-packages/seaborn/_oldcore.py:1119: FutureWarning: use_inf_as_na option is deprecated and will be removed in a future version. Convert inf values to NaN before operating instead.\n",
      "  with pd.option_context('mode.use_inf_as_na', True):\n",
      "/tmp/ipykernel_13/3762423359.py:7: UserWarning: The figure layout has changed to tight\n",
      "  plt.tight_layout()\n",
      "/usr/local/lib/python3.11/dist-packages/seaborn/_oldcore.py:1119: FutureWarning: use_inf_as_na option is deprecated and will be removed in a future version. Convert inf values to NaN before operating instead.\n",
      "  with pd.option_context('mode.use_inf_as_na', True):\n",
      "/tmp/ipykernel_13/3762423359.py:7: UserWarning: The figure layout has changed to tight\n",
      "  plt.tight_layout()\n",
      "/usr/local/lib/python3.11/dist-packages/seaborn/_oldcore.py:1119: FutureWarning: use_inf_as_na option is deprecated and will be removed in a future version. Convert inf values to NaN before operating instead.\n",
      "  with pd.option_context('mode.use_inf_as_na', True):\n",
      "/tmp/ipykernel_13/3762423359.py:7: UserWarning: The figure layout has changed to tight\n",
      "  plt.tight_layout()\n",
      "/usr/local/lib/python3.11/dist-packages/seaborn/_oldcore.py:1119: FutureWarning: use_inf_as_na option is deprecated and will be removed in a future version. Convert inf values to NaN before operating instead.\n",
      "  with pd.option_context('mode.use_inf_as_na', True):\n",
      "/tmp/ipykernel_13/3762423359.py:7: UserWarning: The figure layout has changed to tight\n",
      "  plt.tight_layout()\n",
      "/usr/local/lib/python3.11/dist-packages/seaborn/_oldcore.py:1119: FutureWarning: use_inf_as_na option is deprecated and will be removed in a future version. Convert inf values to NaN before operating instead.\n",
      "  with pd.option_context('mode.use_inf_as_na', True):\n",
      "/tmp/ipykernel_13/3762423359.py:7: UserWarning: The figure layout has changed to tight\n",
      "  plt.tight_layout()\n",
      "/usr/local/lib/python3.11/dist-packages/seaborn/_oldcore.py:1119: FutureWarning: use_inf_as_na option is deprecated and will be removed in a future version. Convert inf values to NaN before operating instead.\n",
      "  with pd.option_context('mode.use_inf_as_na', True):\n",
      "/tmp/ipykernel_13/3762423359.py:7: UserWarning: The figure layout has changed to tight\n",
      "  plt.tight_layout()\n",
      "/usr/local/lib/python3.11/dist-packages/seaborn/_oldcore.py:1119: FutureWarning: use_inf_as_na option is deprecated and will be removed in a future version. Convert inf values to NaN before operating instead.\n",
      "  with pd.option_context('mode.use_inf_as_na', True):\n",
      "/tmp/ipykernel_13/3762423359.py:7: UserWarning: The figure layout has changed to tight\n",
      "  plt.tight_layout()\n",
      "/usr/local/lib/python3.11/dist-packages/seaborn/_oldcore.py:1119: FutureWarning: use_inf_as_na option is deprecated and will be removed in a future version. Convert inf values to NaN before operating instead.\n",
      "  with pd.option_context('mode.use_inf_as_na', True):\n",
      "/tmp/ipykernel_13/3762423359.py:7: UserWarning: The figure layout has changed to tight\n",
      "  plt.tight_layout()\n"
     ]
    },
    {
     "data": {
      "image/png": "[encoded data removed]",
      "text/plain": [
       "<Figure size 1500x1000 with 9 Axes>"
      ]
     },
     "metadata": {},
     "output_type": "display_data"
    }
   ],
   "source": [
    "plt.figure(figsize = (15,10))\n",
    "\n",
    "for i in range(0, len(numeric_features)):\n",
    "    plt.subplot(5,3,i+1)\n",
    "    sns.kdeplot(x=df_clean[numeric_features[i]],color=\"b\",fill=True)\n",
    "    plt.xlabel([numeric_features[i]])\n",
    "    plt.tight_layout()\n",
    "plt.show()"
   ]
  }
 ],
 "metadata": {
  "kaggle": {
   "accelerator": "none",
   "dataSources": [
    {
     "datasetId": 49864,
     "sourceId": 274957,
     "sourceType": "datasetVersion"
    }
   ],
   "dockerImageVersionId": 31089,
   "isGpuEnabled": false,
   "isInternetEnabled": true,
   "language": "python",
   "sourceType": "notebook"
  },
  "kernelspec": {
   "display_name": "Python 3",
   "language": "python",
   "name": "python3"
  },
  "language_info": {
   "codemirror_mode": {
    "name": "ipython",
    "version": 3
   },
   "file_extension": ".py",
   "mimetype": "text/x-python",
   "name": "python",
   "nbconvert_exporter": "python",
   "pygments_lexer": "ipython3",
   "version": "3.11.13"
  },
  "papermill": {
   "default_parameters": {},
   "duration": 13.558734,
   "end_time": "2025-09-08T23:19:07.129948",
   "environment_variables": {},
   "exception": null,
   "input_path": "__notebook__.ipynb",
   "output_path": "__notebook__.ipynb",
   "parameters": {},
   "start_time": "2025-09-08T23:18:53.571214",
   "version": "2.6.0"
  }
 },
 "nbformat": 4,
 "nbformat_minor": 5
}
