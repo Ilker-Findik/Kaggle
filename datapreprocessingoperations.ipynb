{
 "cells": [
  {
   "cell_type": "code",
   "execution_count": 1,
   "id": "fcb88267",
   "metadata": {
    "_cell_guid": "b1076dfc-b9ad-4769-8c92-a6c4dae69d19",
    "_uuid": "8f2839f25d086af736a60e9eeb907d3b93b6e0e5",
    "execution": {
     "iopub.execute_input": "2025-09-11T23:13:36.334160Z",
     "iopub.status.busy": "2025-09-11T23:13:36.333752Z",
     "iopub.status.idle": "2025-09-11T23:13:40.957548Z",
     "shell.execute_reply": "2025-09-11T23:13:40.956577Z"
    },
    "papermill": {
     "duration": 4.637178,
     "end_time": "2025-09-11T23:13:40.959743",
     "exception": false,
     "start_time": "2025-09-11T23:13:36.322565",
     "status": "completed"
    },
    "tags": []
   },
   "outputs": [
    {
     "name": "stdout",
     "output_type": "stream",
     "text": [
      "/kaggle/input/google-play-store-apps/googleplaystore.csv\n",
      "/kaggle/input/google-play-store-apps/license.txt\n",
      "/kaggle/input/google-play-store-apps/googleplaystore_user_reviews.csv\n"
     ]
    }
   ],
   "source": [
    "# This Python 3 environment comes with many helpful analytics libraries installed\n",
    "# It is defined by the kaggle/python Docker image: https://github.com/kaggle/docker-python\n",
    "# For example, here's several helpful packages to load\n",
    "\n",
    "import numpy as np # linear algebra\n",
    "import pandas as pd\n",
    "import matplotlib.pyplot as plt\n",
    "import seaborn as sns\n",
    "%matplotlib inline\n",
    "\n",
    "# data processing, CSV file I/O (e.g. pd.read_csv)\n",
    "\n",
    "# Input data files are available in the read-only \"../input/\" directory\n",
    "# For example, running this (by clicking run or pressing Shift+Enter) will list all files under the input directory\n",
    "\n",
    "import os\n",
    "for dirname, _, filenames in os.walk('/kaggle/input'):\n",
    "    for filename in filenames:\n",
    "        print(os.path.join(dirname, filename))\n",
    "\n",
    "# You can write up to 20GB to the current directory (/kaggle/working/) that gets preserved as output when you create a version using \"Save & Run All\" \n",
    "# You can also write temporary files to /kaggle/temp/, but they won't be saved outside of the current session"
   ]
  },
  {
   "cell_type": "code",
   "execution_count": 2,
   "id": "18a42183",
   "metadata": {
    "execution": {
     "iopub.execute_input": "2025-09-11T23:13:40.981345Z",
     "iopub.status.busy": "2025-09-11T23:13:40.980860Z",
     "iopub.status.idle": "2025-09-11T23:13:41.074756Z",
     "shell.execute_reply": "2025-09-11T23:13:41.073573Z"
    },
    "papermill": {
     "duration": 0.104992,
     "end_time": "2025-09-11T23:13:41.077025",
     "exception": false,
     "start_time": "2025-09-11T23:13:40.972033",
     "status": "completed"
    },
    "tags": []
   },
   "outputs": [],
   "source": [
    "df = pd.read_csv('/kaggle/input/google-play-store-apps/googleplaystore.csv')"
   ]
  },
  {
   "cell_type": "code",
   "execution_count": 3,
   "id": "e7942b73",
   "metadata": {
    "execution": {
     "iopub.execute_input": "2025-09-11T23:13:41.094726Z",
     "iopub.status.busy": "2025-09-11T23:13:41.093732Z",
     "iopub.status.idle": "2025-09-11T23:13:41.125015Z",
     "shell.execute_reply": "2025-09-11T23:13:41.124038Z"
    },
    "papermill": {
     "duration": 0.041678,
     "end_time": "2025-09-11T23:13:41.126718",
     "exception": false,
     "start_time": "2025-09-11T23:13:41.085040",
     "status": "completed"
    },
    "tags": []
   },
   "outputs": [
    {
     "data": {
      "text/html": [
       "<div>\n",
       "<style scoped>\n",
       "    .dataframe tbody tr th:only-of-type {\n",
       "        vertical-align: middle;\n",
       "    }\n",
       "\n",
       "    .dataframe tbody tr th {\n",
       "        vertical-align: top;\n",
       "    }\n",
       "\n",
       "    .dataframe thead th {\n",
       "        text-align: right;\n",
       "    }\n",
       "</style>\n",
       "<table border=\"1\" class=\"dataframe\">\n",
       "  <thead>\n",
       "    <tr style=\"text-align: right;\">\n",
       "      <th></th>\n",
       "      <th>App</th>\n",
       "      <th>Category</th>\n",
       "      <th>Rating</th>\n",
       "      <th>Reviews</th>\n",
       "      <th>Size</th>\n",
       "      <th>Installs</th>\n",
       "      <th>Type</th>\n",
       "      <th>Price</th>\n",
       "      <th>Content Rating</th>\n",
       "      <th>Genres</th>\n",
       "      <th>Last Updated</th>\n",
       "      <th>Current Ver</th>\n",
       "      <th>Android Ver</th>\n",
       "    </tr>\n",
       "  </thead>\n",
       "  <tbody>\n",
       "    <tr>\n",
       "      <th>0</th>\n",
       "      <td>Photo Editor &amp; Candy Camera &amp; Grid &amp; ScrapBook</td>\n",
       "      <td>ART_AND_DESIGN</td>\n",
       "      <td>4.1</td>\n",
       "      <td>159</td>\n",
       "      <td>19M</td>\n",
       "      <td>10,000+</td>\n",
       "      <td>Free</td>\n",
       "      <td>0</td>\n",
       "      <td>Everyone</td>\n",
       "      <td>Art &amp; Design</td>\n",
       "      <td>January 7, 2018</td>\n",
       "      <td>1.0.0</td>\n",
       "      <td>4.0.3 and up</td>\n",
       "    </tr>\n",
       "    <tr>\n",
       "      <th>1</th>\n",
       "      <td>Coloring book moana</td>\n",
       "      <td>ART_AND_DESIGN</td>\n",
       "      <td>3.9</td>\n",
       "      <td>967</td>\n",
       "      <td>14M</td>\n",
       "      <td>500,000+</td>\n",
       "      <td>Free</td>\n",
       "      <td>0</td>\n",
       "      <td>Everyone</td>\n",
       "      <td>Art &amp; Design;Pretend Play</td>\n",
       "      <td>January 15, 2018</td>\n",
       "      <td>2.0.0</td>\n",
       "      <td>4.0.3 and up</td>\n",
       "    </tr>\n",
       "    <tr>\n",
       "      <th>2</th>\n",
       "      <td>U Launcher Lite – FREE Live Cool Themes, Hide ...</td>\n",
       "      <td>ART_AND_DESIGN</td>\n",
       "      <td>4.7</td>\n",
       "      <td>87510</td>\n",
       "      <td>8.7M</td>\n",
       "      <td>5,000,000+</td>\n",
       "      <td>Free</td>\n",
       "      <td>0</td>\n",
       "      <td>Everyone</td>\n",
       "      <td>Art &amp; Design</td>\n",
       "      <td>August 1, 2018</td>\n",
       "      <td>1.2.4</td>\n",
       "      <td>4.0.3 and up</td>\n",
       "    </tr>\n",
       "    <tr>\n",
       "      <th>3</th>\n",
       "      <td>Sketch - Draw &amp; Paint</td>\n",
       "      <td>ART_AND_DESIGN</td>\n",
       "      <td>4.5</td>\n",
       "      <td>215644</td>\n",
       "      <td>25M</td>\n",
       "      <td>50,000,000+</td>\n",
       "      <td>Free</td>\n",
       "      <td>0</td>\n",
       "      <td>Teen</td>\n",
       "      <td>Art &amp; Design</td>\n",
       "      <td>June 8, 2018</td>\n",
       "      <td>Varies with device</td>\n",
       "      <td>4.2 and up</td>\n",
       "    </tr>\n",
       "    <tr>\n",
       "      <th>4</th>\n",
       "      <td>Pixel Draw - Number Art Coloring Book</td>\n",
       "      <td>ART_AND_DESIGN</td>\n",
       "      <td>4.3</td>\n",
       "      <td>967</td>\n",
       "      <td>2.8M</td>\n",
       "      <td>100,000+</td>\n",
       "      <td>Free</td>\n",
       "      <td>0</td>\n",
       "      <td>Everyone</td>\n",
       "      <td>Art &amp; Design;Creativity</td>\n",
       "      <td>June 20, 2018</td>\n",
       "      <td>1.1</td>\n",
       "      <td>4.4 and up</td>\n",
       "    </tr>\n",
       "  </tbody>\n",
       "</table>\n",
       "</div>"
      ],
      "text/plain": [
       "                                                 App        Category  Rating  \\\n",
       "0     Photo Editor & Candy Camera & Grid & ScrapBook  ART_AND_DESIGN     4.1   \n",
       "1                                Coloring book moana  ART_AND_DESIGN     3.9   \n",
       "2  U Launcher Lite – FREE Live Cool Themes, Hide ...  ART_AND_DESIGN     4.7   \n",
       "3                              Sketch - Draw & Paint  ART_AND_DESIGN     4.5   \n",
       "4              Pixel Draw - Number Art Coloring Book  ART_AND_DESIGN     4.3   \n",
       "\n",
       "  Reviews  Size     Installs  Type Price Content Rating  \\\n",
       "0     159   19M      10,000+  Free     0       Everyone   \n",
       "1     967   14M     500,000+  Free     0       Everyone   \n",
       "2   87510  8.7M   5,000,000+  Free     0       Everyone   \n",
       "3  215644   25M  50,000,000+  Free     0           Teen   \n",
       "4     967  2.8M     100,000+  Free     0       Everyone   \n",
       "\n",
       "                      Genres      Last Updated         Current Ver  \\\n",
       "0               Art & Design   January 7, 2018               1.0.0   \n",
       "1  Art & Design;Pretend Play  January 15, 2018               2.0.0   \n",
       "2               Art & Design    August 1, 2018               1.2.4   \n",
       "3               Art & Design      June 8, 2018  Varies with device   \n",
       "4    Art & Design;Creativity     June 20, 2018                 1.1   \n",
       "\n",
       "    Android Ver  \n",
       "0  4.0.3 and up  \n",
       "1  4.0.3 and up  \n",
       "2  4.0.3 and up  \n",
       "3    4.2 and up  \n",
       "4    4.4 and up  "
      ]
     },
     "execution_count": 3,
     "metadata": {},
     "output_type": "execute_result"
    }
   ],
   "source": [
    "df.head()"
   ]
  },
  {
   "cell_type": "code",
   "execution_count": 4,
   "id": "cb694a2a",
   "metadata": {
    "execution": {
     "iopub.execute_input": "2025-09-11T23:13:41.145251Z",
     "iopub.status.busy": "2025-09-11T23:13:41.144927Z",
     "iopub.status.idle": "2025-09-11T23:13:41.153540Z",
     "shell.execute_reply": "2025-09-11T23:13:41.152362Z"
    },
    "papermill": {
     "duration": 0.019484,
     "end_time": "2025-09-11T23:13:41.155455",
     "exception": false,
     "start_time": "2025-09-11T23:13:41.135971",
     "status": "completed"
    },
    "tags": []
   },
   "outputs": [
    {
     "data": {
      "text/plain": [
       "Index(['App', 'Category', 'Rating', 'Reviews', 'Size', 'Installs', 'Type',\n",
       "       'Price', 'Content Rating', 'Genres', 'Last Updated', 'Current Ver',\n",
       "       'Android Ver'],\n",
       "      dtype='object')"
      ]
     },
     "execution_count": 4,
     "metadata": {},
     "output_type": "execute_result"
    }
   ],
   "source": [
    "df.columns"
   ]
  },
  {
   "cell_type": "code",
   "execution_count": 5,
   "id": "ca813ec9",
   "metadata": {
    "execution": {
     "iopub.execute_input": "2025-09-11T23:13:41.175768Z",
     "iopub.status.busy": "2025-09-11T23:13:41.175460Z",
     "iopub.status.idle": "2025-09-11T23:13:41.181887Z",
     "shell.execute_reply": "2025-09-11T23:13:41.180635Z"
    },
    "papermill": {
     "duration": 0.017737,
     "end_time": "2025-09-11T23:13:41.183596",
     "exception": false,
     "start_time": "2025-09-11T23:13:41.165859",
     "status": "completed"
    },
    "tags": []
   },
   "outputs": [
    {
     "data": {
      "text/plain": [
       "(10841, 13)"
      ]
     },
     "execution_count": 5,
     "metadata": {},
     "output_type": "execute_result"
    }
   ],
   "source": [
    "df.shape"
   ]
  },
  {
   "cell_type": "code",
   "execution_count": 6,
   "id": "bc8ebce7",
   "metadata": {
    "execution": {
     "iopub.execute_input": "2025-09-11T23:13:41.205113Z",
     "iopub.status.busy": "2025-09-11T23:13:41.204750Z",
     "iopub.status.idle": "2025-09-11T23:13:41.242632Z",
     "shell.execute_reply": "2025-09-11T23:13:41.240726Z"
    },
    "papermill": {
     "duration": 0.051304,
     "end_time": "2025-09-11T23:13:41.244803",
     "exception": false,
     "start_time": "2025-09-11T23:13:41.193499",
     "status": "completed"
    },
    "tags": []
   },
   "outputs": [
    {
     "name": "stdout",
     "output_type": "stream",
     "text": [
      "<class 'pandas.core.frame.DataFrame'>\n",
      "RangeIndex: 10841 entries, 0 to 10840\n",
      "Data columns (total 13 columns):\n",
      " #   Column          Non-Null Count  Dtype  \n",
      "---  ------          --------------  -----  \n",
      " 0   App             10841 non-null  object \n",
      " 1   Category        10841 non-null  object \n",
      " 2   Rating          9367 non-null   float64\n",
      " 3   Reviews         10841 non-null  object \n",
      " 4   Size            10841 non-null  object \n",
      " 5   Installs        10841 non-null  object \n",
      " 6   Type            10840 non-null  object \n",
      " 7   Price           10841 non-null  object \n",
      " 8   Content Rating  10840 non-null  object \n",
      " 9   Genres          10841 non-null  object \n",
      " 10  Last Updated    10841 non-null  object \n",
      " 11  Current Ver     10833 non-null  object \n",
      " 12  Android Ver     10838 non-null  object \n",
      "dtypes: float64(1), object(12)\n",
      "memory usage: 1.1+ MB\n"
     ]
    }
   ],
   "source": [
    "df.info()"
   ]
  },
  {
   "cell_type": "code",
   "execution_count": 7,
   "id": "5a86d7de",
   "metadata": {
    "execution": {
     "iopub.execute_input": "2025-09-11T23:13:41.262473Z",
     "iopub.status.busy": "2025-09-11T23:13:41.262178Z",
     "iopub.status.idle": "2025-09-11T23:13:41.278499Z",
     "shell.execute_reply": "2025-09-11T23:13:41.277661Z"
    },
    "papermill": {
     "duration": 0.026993,
     "end_time": "2025-09-11T23:13:41.280175",
     "exception": false,
     "start_time": "2025-09-11T23:13:41.253182",
     "status": "completed"
    },
    "tags": []
   },
   "outputs": [
    {
     "data": {
      "text/plain": [
       "App                  0\n",
       "Category             0\n",
       "Rating            1474\n",
       "Reviews              0\n",
       "Size                 0\n",
       "Installs             0\n",
       "Type                 1\n",
       "Price                0\n",
       "Content Rating       1\n",
       "Genres               0\n",
       "Last Updated         0\n",
       "Current Ver          8\n",
       "Android Ver          3\n",
       "dtype: int64"
      ]
     },
     "execution_count": 7,
     "metadata": {},
     "output_type": "execute_result"
    }
   ],
   "source": [
    "df.isnull().sum()"
   ]
  },
  {
   "cell_type": "code",
   "execution_count": 8,
   "id": "2f95ebc2",
   "metadata": {
    "execution": {
     "iopub.execute_input": "2025-09-11T23:13:41.298382Z",
     "iopub.status.busy": "2025-09-11T23:13:41.298070Z",
     "iopub.status.idle": "2025-09-11T23:13:41.319740Z",
     "shell.execute_reply": "2025-09-11T23:13:41.318215Z"
    },
    "papermill": {
     "duration": 0.033158,
     "end_time": "2025-09-11T23:13:41.321651",
     "exception": false,
     "start_time": "2025-09-11T23:13:41.288493",
     "status": "completed"
    },
    "tags": []
   },
   "outputs": [
    {
     "data": {
      "text/html": [
       "<div>\n",
       "<style scoped>\n",
       "    .dataframe tbody tr th:only-of-type {\n",
       "        vertical-align: middle;\n",
       "    }\n",
       "\n",
       "    .dataframe tbody tr th {\n",
       "        vertical-align: top;\n",
       "    }\n",
       "\n",
       "    .dataframe thead th {\n",
       "        text-align: right;\n",
       "    }\n",
       "</style>\n",
       "<table border=\"1\" class=\"dataframe\">\n",
       "  <thead>\n",
       "    <tr style=\"text-align: right;\">\n",
       "      <th></th>\n",
       "      <th>App</th>\n",
       "      <th>Category</th>\n",
       "      <th>Rating</th>\n",
       "      <th>Reviews</th>\n",
       "      <th>Size</th>\n",
       "      <th>Installs</th>\n",
       "      <th>Type</th>\n",
       "      <th>Price</th>\n",
       "      <th>Content Rating</th>\n",
       "      <th>Genres</th>\n",
       "      <th>Last Updated</th>\n",
       "      <th>Current Ver</th>\n",
       "      <th>Android Ver</th>\n",
       "    </tr>\n",
       "  </thead>\n",
       "  <tbody>\n",
       "    <tr>\n",
       "      <th>10472</th>\n",
       "      <td>Life Made WI-Fi Touchscreen Photo Frame</td>\n",
       "      <td>1.9</td>\n",
       "      <td>19.0</td>\n",
       "      <td>3.0M</td>\n",
       "      <td>1,000+</td>\n",
       "      <td>Free</td>\n",
       "      <td>0</td>\n",
       "      <td>Everyone</td>\n",
       "      <td>NaN</td>\n",
       "      <td>February 11, 2018</td>\n",
       "      <td>1.0.19</td>\n",
       "      <td>4.0 and up</td>\n",
       "      <td>NaN</td>\n",
       "    </tr>\n",
       "  </tbody>\n",
       "</table>\n",
       "</div>"
      ],
      "text/plain": [
       "                                           App Category  Rating Reviews  \\\n",
       "10472  Life Made WI-Fi Touchscreen Photo Frame      1.9    19.0    3.0M   \n",
       "\n",
       "         Size Installs Type     Price Content Rating             Genres  \\\n",
       "10472  1,000+     Free    0  Everyone            NaN  February 11, 2018   \n",
       "\n",
       "      Last Updated Current Ver Android Ver  \n",
       "10472       1.0.19  4.0 and up         NaN  "
      ]
     },
     "execution_count": 8,
     "metadata": {},
     "output_type": "execute_result"
    }
   ],
   "source": [
    " df[~df['Reviews'].str.isnumeric()]"
   ]
  },
  {
   "cell_type": "code",
   "execution_count": 9,
   "id": "d3202978",
   "metadata": {
    "execution": {
     "iopub.execute_input": "2025-09-11T23:13:41.340372Z",
     "iopub.status.busy": "2025-09-11T23:13:41.339933Z",
     "iopub.status.idle": "2025-09-11T23:13:41.346650Z",
     "shell.execute_reply": "2025-09-11T23:13:41.345437Z"
    },
    "papermill": {
     "duration": 0.018178,
     "end_time": "2025-09-11T23:13:41.348502",
     "exception": false,
     "start_time": "2025-09-11T23:13:41.330324",
     "status": "completed"
    },
    "tags": []
   },
   "outputs": [],
   "source": [
    "df_clean = df.copy()"
   ]
  },
  {
   "cell_type": "code",
   "execution_count": 10,
   "id": "dfc9789b",
   "metadata": {
    "execution": {
     "iopub.execute_input": "2025-09-11T23:13:41.366552Z",
     "iopub.status.busy": "2025-09-11T23:13:41.366250Z",
     "iopub.status.idle": "2025-09-11T23:13:41.374686Z",
     "shell.execute_reply": "2025-09-11T23:13:41.373577Z"
    },
    "papermill": {
     "duration": 0.019565,
     "end_time": "2025-09-11T23:13:41.376570",
     "exception": false,
     "start_time": "2025-09-11T23:13:41.357005",
     "status": "completed"
    },
    "tags": []
   },
   "outputs": [],
   "source": [
    "df_clean = df_clean.drop(df_clean.index[10472])"
   ]
  },
  {
   "cell_type": "code",
   "execution_count": 11,
   "id": "229f7f11",
   "metadata": {
    "execution": {
     "iopub.execute_input": "2025-09-11T23:13:41.394513Z",
     "iopub.status.busy": "2025-09-11T23:13:41.394207Z",
     "iopub.status.idle": "2025-09-11T23:13:41.401527Z",
     "shell.execute_reply": "2025-09-11T23:13:41.400265Z"
    },
    "papermill": {
     "duration": 0.018719,
     "end_time": "2025-09-11T23:13:41.403702",
     "exception": false,
     "start_time": "2025-09-11T23:13:41.384983",
     "status": "completed"
    },
    "tags": []
   },
   "outputs": [],
   "source": [
    "df_clean['Reviews'] = df_clean['Reviews'].astype(int) "
   ]
  },
  {
   "cell_type": "code",
   "execution_count": 12,
   "id": "b7d502a3",
   "metadata": {
    "execution": {
     "iopub.execute_input": "2025-09-11T23:13:41.422679Z",
     "iopub.status.busy": "2025-09-11T23:13:41.421727Z",
     "iopub.status.idle": "2025-09-11T23:13:41.439259Z",
     "shell.execute_reply": "2025-09-11T23:13:41.437873Z"
    },
    "papermill": {
     "duration": 0.028572,
     "end_time": "2025-09-11T23:13:41.440883",
     "exception": false,
     "start_time": "2025-09-11T23:13:41.412311",
     "status": "completed"
    },
    "tags": []
   },
   "outputs": [
    {
     "name": "stdout",
     "output_type": "stream",
     "text": [
      "<class 'pandas.core.frame.DataFrame'>\n",
      "Index: 10840 entries, 0 to 10840\n",
      "Data columns (total 13 columns):\n",
      " #   Column          Non-Null Count  Dtype  \n",
      "---  ------          --------------  -----  \n",
      " 0   App             10840 non-null  object \n",
      " 1   Category        10840 non-null  object \n",
      " 2   Rating          9366 non-null   float64\n",
      " 3   Reviews         10840 non-null  int64  \n",
      " 4   Size            10840 non-null  object \n",
      " 5   Installs        10840 non-null  object \n",
      " 6   Type            10839 non-null  object \n",
      " 7   Price           10840 non-null  object \n",
      " 8   Content Rating  10840 non-null  object \n",
      " 9   Genres          10840 non-null  object \n",
      " 10  Last Updated    10840 non-null  object \n",
      " 11  Current Ver     10832 non-null  object \n",
      " 12  Android Ver     10838 non-null  object \n",
      "dtypes: float64(1), int64(1), object(11)\n",
      "memory usage: 1.2+ MB\n"
     ]
    }
   ],
   "source": [
    "df_clean.info()"
   ]
  },
  {
   "cell_type": "code",
   "execution_count": 13,
   "id": "b30580c9",
   "metadata": {
    "execution": {
     "iopub.execute_input": "2025-09-11T23:13:41.461603Z",
     "iopub.status.busy": "2025-09-11T23:13:41.461233Z",
     "iopub.status.idle": "2025-09-11T23:13:41.470485Z",
     "shell.execute_reply": "2025-09-11T23:13:41.469249Z"
    },
    "papermill": {
     "duration": 0.022246,
     "end_time": "2025-09-11T23:13:41.472472",
     "exception": false,
     "start_time": "2025-09-11T23:13:41.450226",
     "status": "completed"
    },
    "tags": []
   },
   "outputs": [
    {
     "data": {
      "text/plain": [
       "array(['19M', '14M', '8.7M', '25M', '2.8M', '5.6M', '29M', '33M', '3.1M',\n",
       "       '28M', '12M', '20M', '21M', '37M', '2.7M', '5.5M', '17M', '39M',\n",
       "       '31M', '4.2M', '7.0M', '23M', '6.0M', '6.1M', '4.6M', '9.2M',\n",
       "       '5.2M', '11M', '24M', 'Varies with device', '9.4M', '15M', '10M',\n",
       "       '1.2M', '26M', '8.0M', '7.9M', '56M', '57M', '35M', '54M', '201k',\n",
       "       '3.6M', '5.7M', '8.6M', '2.4M', '27M', '2.5M', '16M', '3.4M',\n",
       "       '8.9M', '3.9M', '2.9M', '38M', '32M', '5.4M', '18M', '1.1M',\n",
       "       '2.2M', '4.5M', '9.8M', '52M', '9.0M', '6.7M', '30M', '2.6M',\n",
       "       '7.1M', '3.7M', '22M', '7.4M', '6.4M', '3.2M', '8.2M', '9.9M',\n",
       "       '4.9M', '9.5M', '5.0M', '5.9M', '13M', '73M', '6.8M', '3.5M',\n",
       "       '4.0M', '2.3M', '7.2M', '2.1M', '42M', '7.3M', '9.1M', '55M',\n",
       "       '23k', '6.5M', '1.5M', '7.5M', '51M', '41M', '48M', '8.5M', '46M',\n",
       "       '8.3M', '4.3M', '4.7M', '3.3M', '40M', '7.8M', '8.8M', '6.6M',\n",
       "       '5.1M', '61M', '66M', '79k', '8.4M', '118k', '44M', '695k', '1.6M',\n",
       "       '6.2M', '18k', '53M', '1.4M', '3.0M', '5.8M', '3.8M', '9.6M',\n",
       "       '45M', '63M', '49M', '77M', '4.4M', '4.8M', '70M', '6.9M', '9.3M',\n",
       "       '10.0M', '8.1M', '36M', '84M', '97M', '2.0M', '1.9M', '1.8M',\n",
       "       '5.3M', '47M', '556k', '526k', '76M', '7.6M', '59M', '9.7M', '78M',\n",
       "       '72M', '43M', '7.7M', '6.3M', '334k', '34M', '93M', '65M', '79M',\n",
       "       '100M', '58M', '50M', '68M', '64M', '67M', '60M', '94M', '232k',\n",
       "       '99M', '624k', '95M', '8.5k', '41k', '292k', '11k', '80M', '1.7M',\n",
       "       '74M', '62M', '69M', '75M', '98M', '85M', '82M', '96M', '87M',\n",
       "       '71M', '86M', '91M', '81M', '92M', '83M', '88M', '704k', '862k',\n",
       "       '899k', '378k', '266k', '375k', '1.3M', '975k', '980k', '4.1M',\n",
       "       '89M', '696k', '544k', '525k', '920k', '779k', '853k', '720k',\n",
       "       '713k', '772k', '318k', '58k', '241k', '196k', '857k', '51k',\n",
       "       '953k', '865k', '251k', '930k', '540k', '313k', '746k', '203k',\n",
       "       '26k', '314k', '239k', '371k', '220k', '730k', '756k', '91k',\n",
       "       '293k', '17k', '74k', '14k', '317k', '78k', '924k', '902k', '818k',\n",
       "       '81k', '939k', '169k', '45k', '475k', '965k', '90M', '545k', '61k',\n",
       "       '283k', '655k', '714k', '93k', '872k', '121k', '322k', '1.0M',\n",
       "       '976k', '172k', '238k', '549k', '206k', '954k', '444k', '717k',\n",
       "       '210k', '609k', '308k', '705k', '306k', '904k', '473k', '175k',\n",
       "       '350k', '383k', '454k', '421k', '70k', '812k', '442k', '842k',\n",
       "       '417k', '412k', '459k', '478k', '335k', '782k', '721k', '430k',\n",
       "       '429k', '192k', '200k', '460k', '728k', '496k', '816k', '414k',\n",
       "       '506k', '887k', '613k', '243k', '569k', '778k', '683k', '592k',\n",
       "       '319k', '186k', '840k', '647k', '191k', '373k', '437k', '598k',\n",
       "       '716k', '585k', '982k', '222k', '219k', '55k', '948k', '323k',\n",
       "       '691k', '511k', '951k', '963k', '25k', '554k', '351k', '27k',\n",
       "       '82k', '208k', '913k', '514k', '551k', '29k', '103k', '898k',\n",
       "       '743k', '116k', '153k', '209k', '353k', '499k', '173k', '597k',\n",
       "       '809k', '122k', '411k', '400k', '801k', '787k', '237k', '50k',\n",
       "       '643k', '986k', '97k', '516k', '837k', '780k', '961k', '269k',\n",
       "       '20k', '498k', '600k', '749k', '642k', '881k', '72k', '656k',\n",
       "       '601k', '221k', '228k', '108k', '940k', '176k', '33k', '663k',\n",
       "       '34k', '942k', '259k', '164k', '458k', '245k', '629k', '28k',\n",
       "       '288k', '775k', '785k', '636k', '916k', '994k', '309k', '485k',\n",
       "       '914k', '903k', '608k', '500k', '54k', '562k', '847k', '957k',\n",
       "       '688k', '811k', '270k', '48k', '329k', '523k', '921k', '874k',\n",
       "       '981k', '784k', '280k', '24k', '518k', '754k', '892k', '154k',\n",
       "       '860k', '364k', '387k', '626k', '161k', '879k', '39k', '970k',\n",
       "       '170k', '141k', '160k', '144k', '143k', '190k', '376k', '193k',\n",
       "       '246k', '73k', '658k', '992k', '253k', '420k', '404k', '470k',\n",
       "       '226k', '240k', '89k', '234k', '257k', '861k', '467k', '157k',\n",
       "       '44k', '676k', '67k', '552k', '885k', '1020k', '582k', '619k'],\n",
       "      dtype=object)"
      ]
     },
     "execution_count": 13,
     "metadata": {},
     "output_type": "execute_result"
    }
   ],
   "source": [
    "df_clean['Size'].unique()"
   ]
  },
  {
   "cell_type": "code",
   "execution_count": 14,
   "id": "03a2a70c",
   "metadata": {
    "execution": {
     "iopub.execute_input": "2025-09-11T23:13:41.492514Z",
     "iopub.status.busy": "2025-09-11T23:13:41.491680Z",
     "iopub.status.idle": "2025-09-11T23:13:41.507485Z",
     "shell.execute_reply": "2025-09-11T23:13:41.506136Z"
    },
    "papermill": {
     "duration": 0.02713,
     "end_time": "2025-09-11T23:13:41.509065",
     "exception": false,
     "start_time": "2025-09-11T23:13:41.481935",
     "status": "completed"
    },
    "tags": []
   },
   "outputs": [],
   "source": [
    "df_clean['Size'] = df_clean['Size'].str.replace(\"M\",\"000\")\n",
    "df_clean['Size'] = df_clean['Size'].str.replace(\"k\",\"\")\n",
    "df_clean['Size'] = df_clean['Size'].replace(\"Varies with device\", np.nan)"
   ]
  },
  {
   "cell_type": "code",
   "execution_count": 15,
   "id": "8aeb8aa9",
   "metadata": {
    "execution": {
     "iopub.execute_input": "2025-09-11T23:13:41.529612Z",
     "iopub.status.busy": "2025-09-11T23:13:41.529298Z",
     "iopub.status.idle": "2025-09-11T23:13:41.536947Z",
     "shell.execute_reply": "2025-09-11T23:13:41.536069Z"
    },
    "papermill": {
     "duration": 0.019958,
     "end_time": "2025-09-11T23:13:41.538638",
     "exception": false,
     "start_time": "2025-09-11T23:13:41.518680",
     "status": "completed"
    },
    "tags": []
   },
   "outputs": [
    {
     "data": {
      "text/plain": [
       "array(['19000', '14000', '8.7000', '25000', '2.8000', '5.6000', '29000',\n",
       "       '33000', '3.1000', '28000', '12000', '20000', '21000', '37000',\n",
       "       '2.7000', '5.5000', '17000', '39000', '31000', '4.2000', '7.0000',\n",
       "       '23000', '6.0000', '6.1000', '4.6000', '9.2000', '5.2000', '11000',\n",
       "       '24000', nan, '9.4000', '15000', '10000', '1.2000', '26000',\n",
       "       '8.0000', '7.9000', '56000', '57000', '35000', '54000', '201',\n",
       "       '3.6000', '5.7000', '8.6000', '2.4000', '27000', '2.5000', '16000',\n",
       "       '3.4000', '8.9000', '3.9000', '2.9000', '38000', '32000', '5.4000',\n",
       "       '18000', '1.1000', '2.2000', '4.5000', '9.8000', '52000', '9.0000',\n",
       "       '6.7000', '30000', '2.6000', '7.1000', '3.7000', '22000', '7.4000',\n",
       "       '6.4000', '3.2000', '8.2000', '9.9000', '4.9000', '9.5000',\n",
       "       '5.0000', '5.9000', '13000', '73000', '6.8000', '3.5000', '4.0000',\n",
       "       '2.3000', '7.2000', '2.1000', '42000', '7.3000', '9.1000', '55000',\n",
       "       '23', '6.5000', '1.5000', '7.5000', '51000', '41000', '48000',\n",
       "       '8.5000', '46000', '8.3000', '4.3000', '4.7000', '3.3000', '40000',\n",
       "       '7.8000', '8.8000', '6.6000', '5.1000', '61000', '66000', '79',\n",
       "       '8.4000', '118', '44000', '695', '1.6000', '6.2000', '18', '53000',\n",
       "       '1.4000', '3.0000', '5.8000', '3.8000', '9.6000', '45000', '63000',\n",
       "       '49000', '77000', '4.4000', '4.8000', '70000', '6.9000', '9.3000',\n",
       "       '10.0000', '8.1000', '36000', '84000', '97000', '2.0000', '1.9000',\n",
       "       '1.8000', '5.3000', '47000', '556', '526', '76000', '7.6000',\n",
       "       '59000', '9.7000', '78000', '72000', '43000', '7.7000', '6.3000',\n",
       "       '334', '34000', '93000', '65000', '79000', '100000', '58000',\n",
       "       '50000', '68000', '64000', '67000', '60000', '94000', '232',\n",
       "       '99000', '624', '95000', '8.5', '41', '292', '11', '80000',\n",
       "       '1.7000', '74000', '62000', '69000', '75000', '98000', '85000',\n",
       "       '82000', '96000', '87000', '71000', '86000', '91000', '81000',\n",
       "       '92000', '83000', '88000', '704', '862', '899', '378', '266',\n",
       "       '375', '1.3000', '975', '980', '4.1000', '89000', '696', '544',\n",
       "       '525', '920', '779', '853', '720', '713', '772', '318', '58',\n",
       "       '241', '196', '857', '51', '953', '865', '251', '930', '540',\n",
       "       '313', '746', '203', '26', '314', '239', '371', '220', '730',\n",
       "       '756', '91', '293', '17', '74', '14', '317', '78', '924', '902',\n",
       "       '818', '81', '939', '169', '45', '475', '965', '90000', '545',\n",
       "       '61', '283', '655', '714', '93', '872', '121', '322', '1.0000',\n",
       "       '976', '172', '238', '549', '206', '954', '444', '717', '210',\n",
       "       '609', '308', '705', '306', '904', '473', '175', '350', '383',\n",
       "       '454', '421', '70', '812', '442', '842', '417', '412', '459',\n",
       "       '478', '335', '782', '721', '430', '429', '192', '200', '460',\n",
       "       '728', '496', '816', '414', '506', '887', '613', '243', '569',\n",
       "       '778', '683', '592', '319', '186', '840', '647', '191', '373',\n",
       "       '437', '598', '716', '585', '982', '222', '219', '55', '948',\n",
       "       '323', '691', '511', '951', '963', '25', '554', '351', '27', '82',\n",
       "       '208', '913', '514', '551', '29', '103', '898', '743', '116',\n",
       "       '153', '209', '353', '499', '173', '597', '809', '122', '411',\n",
       "       '400', '801', '787', '237', '50', '643', '986', '97', '516', '837',\n",
       "       '780', '961', '269', '20', '498', '600', '749', '642', '881', '72',\n",
       "       '656', '601', '221', '228', '108', '940', '176', '33', '663', '34',\n",
       "       '942', '259', '164', '458', '245', '629', '28', '288', '775',\n",
       "       '785', '636', '916', '994', '309', '485', '914', '903', '608',\n",
       "       '500', '54', '562', '847', '957', '688', '811', '270', '48', '329',\n",
       "       '523', '921', '874', '981', '784', '280', '24', '518', '754',\n",
       "       '892', '154', '860', '364', '387', '626', '161', '879', '39',\n",
       "       '970', '170', '141', '160', '144', '143', '190', '376', '193',\n",
       "       '246', '73', '658', '992', '253', '420', '404', '470', '226',\n",
       "       '240', '89', '234', '257', '861', '467', '157', '44', '676', '67',\n",
       "       '552', '885', '1020', '582', '619'], dtype=object)"
      ]
     },
     "execution_count": 15,
     "metadata": {},
     "output_type": "execute_result"
    }
   ],
   "source": [
    "df_clean['Size'].unique()"
   ]
  },
  {
   "cell_type": "code",
   "execution_count": 16,
   "id": "1914e8fe",
   "metadata": {
    "execution": {
     "iopub.execute_input": "2025-09-11T23:13:41.628405Z",
     "iopub.status.busy": "2025-09-11T23:13:41.628103Z",
     "iopub.status.idle": "2025-09-11T23:13:41.634958Z",
     "shell.execute_reply": "2025-09-11T23:13:41.633931Z"
    },
    "papermill": {
     "duration": 0.08864,
     "end_time": "2025-09-11T23:13:41.636768",
     "exception": false,
     "start_time": "2025-09-11T23:13:41.548128",
     "status": "completed"
    },
    "tags": []
   },
   "outputs": [],
   "source": [
    "df_clean['Size'] = df_clean['Size'].astype(float)"
   ]
  },
  {
   "cell_type": "code",
   "execution_count": 17,
   "id": "577d7200",
   "metadata": {
    "execution": {
     "iopub.execute_input": "2025-09-11T23:13:41.656198Z",
     "iopub.status.busy": "2025-09-11T23:13:41.655894Z",
     "iopub.status.idle": "2025-09-11T23:13:41.664708Z",
     "shell.execute_reply": "2025-09-11T23:13:41.663854Z"
    },
    "papermill": {
     "duration": 0.020197,
     "end_time": "2025-09-11T23:13:41.666256",
     "exception": false,
     "start_time": "2025-09-11T23:13:41.646059",
     "status": "completed"
    },
    "tags": []
   },
   "outputs": [
    {
     "data": {
      "text/plain": [
       "Installs\n",
       "1,000,000+        1579\n",
       "10,000,000+       1252\n",
       "100,000+          1169\n",
       "10,000+           1054\n",
       "1,000+             907\n",
       "5,000,000+         752\n",
       "100+               719\n",
       "500,000+           539\n",
       "50,000+            479\n",
       "5,000+             477\n",
       "100,000,000+       409\n",
       "10+                386\n",
       "500+               330\n",
       "50,000,000+        289\n",
       "50+                205\n",
       "5+                  82\n",
       "500,000,000+        72\n",
       "1+                  67\n",
       "1,000,000,000+      58\n",
       "0+                  14\n",
       "0                    1\n",
       "Name: count, dtype: int64"
      ]
     },
     "execution_count": 17,
     "metadata": {},
     "output_type": "execute_result"
    }
   ],
   "source": [
    "df_clean['Installs'].value_counts()"
   ]
  },
  {
   "cell_type": "code",
   "execution_count": 18,
   "id": "2205aefb",
   "metadata": {
    "execution": {
     "iopub.execute_input": "2025-09-11T23:13:41.686432Z",
     "iopub.status.busy": "2025-09-11T23:13:41.686026Z",
     "iopub.status.idle": "2025-09-11T23:13:41.692624Z",
     "shell.execute_reply": "2025-09-11T23:13:41.691884Z"
    },
    "papermill": {
     "duration": 0.018185,
     "end_time": "2025-09-11T23:13:41.694428",
     "exception": false,
     "start_time": "2025-09-11T23:13:41.676243",
     "status": "completed"
    },
    "tags": []
   },
   "outputs": [
    {
     "data": {
      "text/plain": [
       "array(['10,000+', '500,000+', '5,000,000+', '50,000,000+', '100,000+',\n",
       "       '50,000+', '1,000,000+', '10,000,000+', '5,000+', '100,000,000+',\n",
       "       '1,000,000,000+', '1,000+', '500,000,000+', '50+', '100+', '500+',\n",
       "       '10+', '1+', '5+', '0+', '0'], dtype=object)"
      ]
     },
     "execution_count": 18,
     "metadata": {},
     "output_type": "execute_result"
    }
   ],
   "source": [
    "df_clean['Installs'].unique()"
   ]
  },
  {
   "cell_type": "code",
   "execution_count": 19,
   "id": "623809ac",
   "metadata": {
    "execution": {
     "iopub.execute_input": "2025-09-11T23:13:41.713726Z",
     "iopub.status.busy": "2025-09-11T23:13:41.713448Z",
     "iopub.status.idle": "2025-09-11T23:13:41.720506Z",
     "shell.execute_reply": "2025-09-11T23:13:41.719497Z"
    },
    "papermill": {
     "duration": 0.018556,
     "end_time": "2025-09-11T23:13:41.722215",
     "exception": false,
     "start_time": "2025-09-11T23:13:41.703659",
     "status": "completed"
    },
    "tags": []
   },
   "outputs": [
    {
     "data": {
      "text/plain": [
       "array(['0', '$4.99', '$3.99', '$6.99', '$1.49', '$2.99', '$7.99', '$5.99',\n",
       "       '$3.49', '$1.99', '$9.99', '$7.49', '$0.99', '$9.00', '$5.49',\n",
       "       '$10.00', '$24.99', '$11.99', '$79.99', '$16.99', '$14.99',\n",
       "       '$1.00', '$29.99', '$12.99', '$2.49', '$10.99', '$1.50', '$19.99',\n",
       "       '$15.99', '$33.99', '$74.99', '$39.99', '$3.95', '$4.49', '$1.70',\n",
       "       '$8.99', '$2.00', '$3.88', '$25.99', '$399.99', '$17.99',\n",
       "       '$400.00', '$3.02', '$1.76', '$4.84', '$4.77', '$1.61', '$2.50',\n",
       "       '$1.59', '$6.49', '$1.29', '$5.00', '$13.99', '$299.99', '$379.99',\n",
       "       '$37.99', '$18.99', '$389.99', '$19.90', '$8.49', '$1.75',\n",
       "       '$14.00', '$4.85', '$46.99', '$109.99', '$154.99', '$3.08',\n",
       "       '$2.59', '$4.80', '$1.96', '$19.40', '$3.90', '$4.59', '$15.46',\n",
       "       '$3.04', '$4.29', '$2.60', '$3.28', '$4.60', '$28.99', '$2.95',\n",
       "       '$2.90', '$1.97', '$200.00', '$89.99', '$2.56', '$30.99', '$3.61',\n",
       "       '$394.99', '$1.26', '$1.20', '$1.04'], dtype=object)"
      ]
     },
     "execution_count": 19,
     "metadata": {},
     "output_type": "execute_result"
    }
   ],
   "source": [
    "df_clean['Price'].unique()"
   ]
  },
  {
   "cell_type": "code",
   "execution_count": 20,
   "id": "47e43873",
   "metadata": {
    "execution": {
     "iopub.execute_input": "2025-09-11T23:13:41.742312Z",
     "iopub.status.busy": "2025-09-11T23:13:41.741926Z",
     "iopub.status.idle": "2025-09-11T23:13:41.746101Z",
     "shell.execute_reply": "2025-09-11T23:13:41.745242Z"
    },
    "papermill": {
     "duration": 0.015539,
     "end_time": "2025-09-11T23:13:41.747555",
     "exception": false,
     "start_time": "2025-09-11T23:13:41.732016",
     "status": "completed"
    },
    "tags": []
   },
   "outputs": [],
   "source": [
    "chars_to_remove = [\"+\",\",\",\"$\"]\n",
    "cols_to_clean = ['Installs','Price']"
   ]
  },
  {
   "cell_type": "code",
   "execution_count": 21,
   "id": "7be689d6",
   "metadata": {
    "execution": {
     "iopub.execute_input": "2025-09-11T23:13:41.766900Z",
     "iopub.status.busy": "2025-09-11T23:13:41.766581Z",
     "iopub.status.idle": "2025-09-11T23:13:41.793949Z",
     "shell.execute_reply": "2025-09-11T23:13:41.793035Z"
    },
    "papermill": {
     "duration": 0.039147,
     "end_time": "2025-09-11T23:13:41.795809",
     "exception": false,
     "start_time": "2025-09-11T23:13:41.756662",
     "status": "completed"
    },
    "tags": []
   },
   "outputs": [],
   "source": [
    "for item in chars_to_remove:\n",
    "    for cols in cols_to_clean:\n",
    "        df_clean[cols] = df_clean[cols].str.replace(item,\"\")\n"
   ]
  },
  {
   "cell_type": "code",
   "execution_count": 22,
   "id": "a3086cd8",
   "metadata": {
    "execution": {
     "iopub.execute_input": "2025-09-11T23:13:41.816254Z",
     "iopub.status.busy": "2025-09-11T23:13:41.815935Z",
     "iopub.status.idle": "2025-09-11T23:13:41.823597Z",
     "shell.execute_reply": "2025-09-11T23:13:41.822561Z"
    },
    "papermill": {
     "duration": 0.019863,
     "end_time": "2025-09-11T23:13:41.825458",
     "exception": false,
     "start_time": "2025-09-11T23:13:41.805595",
     "status": "completed"
    },
    "tags": []
   },
   "outputs": [
    {
     "data": {
      "text/plain": [
       "array(['0', '4.99', '3.99', '6.99', '1.49', '2.99', '7.99', '5.99',\n",
       "       '3.49', '1.99', '9.99', '7.49', '0.99', '9.00', '5.49', '10.00',\n",
       "       '24.99', '11.99', '79.99', '16.99', '14.99', '1.00', '29.99',\n",
       "       '12.99', '2.49', '10.99', '1.50', '19.99', '15.99', '33.99',\n",
       "       '74.99', '39.99', '3.95', '4.49', '1.70', '8.99', '2.00', '3.88',\n",
       "       '25.99', '399.99', '17.99', '400.00', '3.02', '1.76', '4.84',\n",
       "       '4.77', '1.61', '2.50', '1.59', '6.49', '1.29', '5.00', '13.99',\n",
       "       '299.99', '379.99', '37.99', '18.99', '389.99', '19.90', '8.49',\n",
       "       '1.75', '14.00', '4.85', '46.99', '109.99', '154.99', '3.08',\n",
       "       '2.59', '4.80', '1.96', '19.40', '3.90', '4.59', '15.46', '3.04',\n",
       "       '4.29', '2.60', '3.28', '4.60', '28.99', '2.95', '2.90', '1.97',\n",
       "       '200.00', '89.99', '2.56', '30.99', '3.61', '394.99', '1.26',\n",
       "       '1.20', '1.04'], dtype=object)"
      ]
     },
     "execution_count": 22,
     "metadata": {},
     "output_type": "execute_result"
    }
   ],
   "source": [
    "df_clean['Price'].unique()"
   ]
  },
  {
   "cell_type": "code",
   "execution_count": 23,
   "id": "1c383c67",
   "metadata": {
    "execution": {
     "iopub.execute_input": "2025-09-11T23:13:41.845148Z",
     "iopub.status.busy": "2025-09-11T23:13:41.844801Z",
     "iopub.status.idle": "2025-09-11T23:13:41.851903Z",
     "shell.execute_reply": "2025-09-11T23:13:41.850999Z"
    },
    "papermill": {
     "duration": 0.018882,
     "end_time": "2025-09-11T23:13:41.853634",
     "exception": false,
     "start_time": "2025-09-11T23:13:41.834752",
     "status": "completed"
    },
    "tags": []
   },
   "outputs": [
    {
     "data": {
      "text/plain": [
       "array(['10000', '500000', '5000000', '50000000', '100000', '50000',\n",
       "       '1000000', '10000000', '5000', '100000000', '1000000000', '1000',\n",
       "       '500000000', '50', '100', '500', '10', '1', '5', '0'], dtype=object)"
      ]
     },
     "execution_count": 23,
     "metadata": {},
     "output_type": "execute_result"
    }
   ],
   "source": [
    "df_clean['Installs'].unique()"
   ]
  },
  {
   "cell_type": "code",
   "execution_count": 24,
   "id": "b08987fa",
   "metadata": {
    "execution": {
     "iopub.execute_input": "2025-09-11T23:13:41.873799Z",
     "iopub.status.busy": "2025-09-11T23:13:41.873532Z",
     "iopub.status.idle": "2025-09-11T23:13:41.879750Z",
     "shell.execute_reply": "2025-09-11T23:13:41.878796Z"
    },
    "papermill": {
     "duration": 0.017809,
     "end_time": "2025-09-11T23:13:41.881164",
     "exception": false,
     "start_time": "2025-09-11T23:13:41.863355",
     "status": "completed"
    },
    "tags": []
   },
   "outputs": [],
   "source": [
    "df_clean['Price'] = df_clean['Price'].astype(float)"
   ]
  },
  {
   "cell_type": "code",
   "execution_count": 25,
   "id": "42bc09ae",
   "metadata": {
    "execution": {
     "iopub.execute_input": "2025-09-11T23:13:41.900775Z",
     "iopub.status.busy": "2025-09-11T23:13:41.900467Z",
     "iopub.status.idle": "2025-09-11T23:13:41.907168Z",
     "shell.execute_reply": "2025-09-11T23:13:41.906202Z"
    },
    "papermill": {
     "duration": 0.018615,
     "end_time": "2025-09-11T23:13:41.908979",
     "exception": false,
     "start_time": "2025-09-11T23:13:41.890364",
     "status": "completed"
    },
    "tags": []
   },
   "outputs": [],
   "source": [
    "df_clean['Installs'] = df_clean['Installs'].astype(int)"
   ]
  },
  {
   "cell_type": "code",
   "execution_count": 26,
   "id": "538a5733",
   "metadata": {
    "execution": {
     "iopub.execute_input": "2025-09-11T23:13:41.928871Z",
     "iopub.status.busy": "2025-09-11T23:13:41.928544Z",
     "iopub.status.idle": "2025-09-11T23:13:41.947066Z",
     "shell.execute_reply": "2025-09-11T23:13:41.945621Z"
    },
    "papermill": {
     "duration": 0.030636,
     "end_time": "2025-09-11T23:13:41.949060",
     "exception": false,
     "start_time": "2025-09-11T23:13:41.918424",
     "status": "completed"
    },
    "tags": []
   },
   "outputs": [
    {
     "name": "stdout",
     "output_type": "stream",
     "text": [
      "<class 'pandas.core.frame.DataFrame'>\n",
      "Index: 10840 entries, 0 to 10840\n",
      "Data columns (total 13 columns):\n",
      " #   Column          Non-Null Count  Dtype  \n",
      "---  ------          --------------  -----  \n",
      " 0   App             10840 non-null  object \n",
      " 1   Category        10840 non-null  object \n",
      " 2   Rating          9366 non-null   float64\n",
      " 3   Reviews         10840 non-null  int64  \n",
      " 4   Size            9145 non-null   float64\n",
      " 5   Installs        10840 non-null  int64  \n",
      " 6   Type            10839 non-null  object \n",
      " 7   Price           10840 non-null  float64\n",
      " 8   Content Rating  10840 non-null  object \n",
      " 9   Genres          10840 non-null  object \n",
      " 10  Last Updated    10840 non-null  object \n",
      " 11  Current Ver     10832 non-null  object \n",
      " 12  Android Ver     10838 non-null  object \n",
      "dtypes: float64(3), int64(2), object(8)\n",
      "memory usage: 1.2+ MB\n"
     ]
    }
   ],
   "source": [
    "df_clean.info()"
   ]
  },
  {
   "cell_type": "code",
   "execution_count": 27,
   "id": "a9ae82f3",
   "metadata": {
    "execution": {
     "iopub.execute_input": "2025-09-11T23:13:41.971304Z",
     "iopub.status.busy": "2025-09-11T23:13:41.970977Z",
     "iopub.status.idle": "2025-09-11T23:13:41.979913Z",
     "shell.execute_reply": "2025-09-11T23:13:41.978994Z"
    },
    "papermill": {
     "duration": 0.02187,
     "end_time": "2025-09-11T23:13:41.981597",
     "exception": false,
     "start_time": "2025-09-11T23:13:41.959727",
     "status": "completed"
    },
    "tags": []
   },
   "outputs": [
    {
     "data": {
      "text/plain": [
       "0         January 7, 2018\n",
       "1        January 15, 2018\n",
       "2          August 1, 2018\n",
       "3            June 8, 2018\n",
       "4           June 20, 2018\n",
       "               ...       \n",
       "10836       July 25, 2017\n",
       "10837        July 6, 2018\n",
       "10838    January 20, 2017\n",
       "10839    January 19, 2015\n",
       "10840       July 25, 2018\n",
       "Name: Last Updated, Length: 10840, dtype: object"
      ]
     },
     "execution_count": 27,
     "metadata": {},
     "output_type": "execute_result"
    }
   ],
   "source": [
    "df_clean['Last Updated']"
   ]
  },
  {
   "cell_type": "code",
   "execution_count": 28,
   "id": "625dddcc",
   "metadata": {
    "execution": {
     "iopub.execute_input": "2025-09-11T23:13:42.003277Z",
     "iopub.status.busy": "2025-09-11T23:13:42.002487Z",
     "iopub.status.idle": "2025-09-11T23:13:42.018668Z",
     "shell.execute_reply": "2025-09-11T23:13:42.017344Z"
    },
    "papermill": {
     "duration": 0.029388,
     "end_time": "2025-09-11T23:13:42.020599",
     "exception": false,
     "start_time": "2025-09-11T23:13:41.991211",
     "status": "completed"
    },
    "tags": []
   },
   "outputs": [],
   "source": [
    "df_clean['Last Updated'] = pd.to_datetime(df_clean['Last Updated'])"
   ]
  },
  {
   "cell_type": "code",
   "execution_count": 29,
   "id": "564c6d9d",
   "metadata": {
    "execution": {
     "iopub.execute_input": "2025-09-11T23:13:42.042636Z",
     "iopub.status.busy": "2025-09-11T23:13:42.041784Z",
     "iopub.status.idle": "2025-09-11T23:13:42.057908Z",
     "shell.execute_reply": "2025-09-11T23:13:42.056803Z"
    },
    "papermill": {
     "duration": 0.029519,
     "end_time": "2025-09-11T23:13:42.059669",
     "exception": false,
     "start_time": "2025-09-11T23:13:42.030150",
     "status": "completed"
    },
    "tags": []
   },
   "outputs": [
    {
     "data": {
      "text/html": [
       "<div>\n",
       "<style scoped>\n",
       "    .dataframe tbody tr th:only-of-type {\n",
       "        vertical-align: middle;\n",
       "    }\n",
       "\n",
       "    .dataframe tbody tr th {\n",
       "        vertical-align: top;\n",
       "    }\n",
       "\n",
       "    .dataframe thead th {\n",
       "        text-align: right;\n",
       "    }\n",
       "</style>\n",
       "<table border=\"1\" class=\"dataframe\">\n",
       "  <thead>\n",
       "    <tr style=\"text-align: right;\">\n",
       "      <th></th>\n",
       "      <th>App</th>\n",
       "      <th>Category</th>\n",
       "      <th>Rating</th>\n",
       "      <th>Reviews</th>\n",
       "      <th>Size</th>\n",
       "      <th>Installs</th>\n",
       "      <th>Type</th>\n",
       "      <th>Price</th>\n",
       "      <th>Content Rating</th>\n",
       "      <th>Genres</th>\n",
       "      <th>Last Updated</th>\n",
       "      <th>Current Ver</th>\n",
       "      <th>Android Ver</th>\n",
       "    </tr>\n",
       "  </thead>\n",
       "  <tbody>\n",
       "    <tr>\n",
       "      <th>0</th>\n",
       "      <td>Photo Editor &amp; Candy Camera &amp; Grid &amp; ScrapBook</td>\n",
       "      <td>ART_AND_DESIGN</td>\n",
       "      <td>4.1</td>\n",
       "      <td>159</td>\n",
       "      <td>19000.0</td>\n",
       "      <td>10000</td>\n",
       "      <td>Free</td>\n",
       "      <td>0.0</td>\n",
       "      <td>Everyone</td>\n",
       "      <td>Art &amp; Design</td>\n",
       "      <td>2018-01-07</td>\n",
       "      <td>1.0.0</td>\n",
       "      <td>4.0.3 and up</td>\n",
       "    </tr>\n",
       "    <tr>\n",
       "      <th>1</th>\n",
       "      <td>Coloring book moana</td>\n",
       "      <td>ART_AND_DESIGN</td>\n",
       "      <td>3.9</td>\n",
       "      <td>967</td>\n",
       "      <td>14000.0</td>\n",
       "      <td>500000</td>\n",
       "      <td>Free</td>\n",
       "      <td>0.0</td>\n",
       "      <td>Everyone</td>\n",
       "      <td>Art &amp; Design;Pretend Play</td>\n",
       "      <td>2018-01-15</td>\n",
       "      <td>2.0.0</td>\n",
       "      <td>4.0.3 and up</td>\n",
       "    </tr>\n",
       "    <tr>\n",
       "      <th>2</th>\n",
       "      <td>U Launcher Lite – FREE Live Cool Themes, Hide ...</td>\n",
       "      <td>ART_AND_DESIGN</td>\n",
       "      <td>4.7</td>\n",
       "      <td>87510</td>\n",
       "      <td>8.7</td>\n",
       "      <td>5000000</td>\n",
       "      <td>Free</td>\n",
       "      <td>0.0</td>\n",
       "      <td>Everyone</td>\n",
       "      <td>Art &amp; Design</td>\n",
       "      <td>2018-08-01</td>\n",
       "      <td>1.2.4</td>\n",
       "      <td>4.0.3 and up</td>\n",
       "    </tr>\n",
       "    <tr>\n",
       "      <th>3</th>\n",
       "      <td>Sketch - Draw &amp; Paint</td>\n",
       "      <td>ART_AND_DESIGN</td>\n",
       "      <td>4.5</td>\n",
       "      <td>215644</td>\n",
       "      <td>25000.0</td>\n",
       "      <td>50000000</td>\n",
       "      <td>Free</td>\n",
       "      <td>0.0</td>\n",
       "      <td>Teen</td>\n",
       "      <td>Art &amp; Design</td>\n",
       "      <td>2018-06-08</td>\n",
       "      <td>Varies with device</td>\n",
       "      <td>4.2 and up</td>\n",
       "    </tr>\n",
       "    <tr>\n",
       "      <th>4</th>\n",
       "      <td>Pixel Draw - Number Art Coloring Book</td>\n",
       "      <td>ART_AND_DESIGN</td>\n",
       "      <td>4.3</td>\n",
       "      <td>967</td>\n",
       "      <td>2.8</td>\n",
       "      <td>100000</td>\n",
       "      <td>Free</td>\n",
       "      <td>0.0</td>\n",
       "      <td>Everyone</td>\n",
       "      <td>Art &amp; Design;Creativity</td>\n",
       "      <td>2018-06-20</td>\n",
       "      <td>1.1</td>\n",
       "      <td>4.4 and up</td>\n",
       "    </tr>\n",
       "  </tbody>\n",
       "</table>\n",
       "</div>"
      ],
      "text/plain": [
       "                                                 App        Category  Rating  \\\n",
       "0     Photo Editor & Candy Camera & Grid & ScrapBook  ART_AND_DESIGN     4.1   \n",
       "1                                Coloring book moana  ART_AND_DESIGN     3.9   \n",
       "2  U Launcher Lite – FREE Live Cool Themes, Hide ...  ART_AND_DESIGN     4.7   \n",
       "3                              Sketch - Draw & Paint  ART_AND_DESIGN     4.5   \n",
       "4              Pixel Draw - Number Art Coloring Book  ART_AND_DESIGN     4.3   \n",
       "\n",
       "   Reviews     Size  Installs  Type  Price Content Rating  \\\n",
       "0      159  19000.0     10000  Free    0.0       Everyone   \n",
       "1      967  14000.0    500000  Free    0.0       Everyone   \n",
       "2    87510      8.7   5000000  Free    0.0       Everyone   \n",
       "3   215644  25000.0  50000000  Free    0.0           Teen   \n",
       "4      967      2.8    100000  Free    0.0       Everyone   \n",
       "\n",
       "                      Genres Last Updated         Current Ver   Android Ver  \n",
       "0               Art & Design   2018-01-07               1.0.0  4.0.3 and up  \n",
       "1  Art & Design;Pretend Play   2018-01-15               2.0.0  4.0.3 and up  \n",
       "2               Art & Design   2018-08-01               1.2.4  4.0.3 and up  \n",
       "3               Art & Design   2018-06-08  Varies with device    4.2 and up  \n",
       "4    Art & Design;Creativity   2018-06-20                 1.1    4.4 and up  "
      ]
     },
     "execution_count": 29,
     "metadata": {},
     "output_type": "execute_result"
    }
   ],
   "source": [
    "df_clean.head()"
   ]
  },
  {
   "cell_type": "code",
   "execution_count": 30,
   "id": "0781eeef",
   "metadata": {
    "execution": {
     "iopub.execute_input": "2025-09-11T23:13:42.080969Z",
     "iopub.status.busy": "2025-09-11T23:13:42.080595Z",
     "iopub.status.idle": "2025-09-11T23:13:42.090097Z",
     "shell.execute_reply": "2025-09-11T23:13:42.088997Z"
    },
    "papermill": {
     "duration": 0.022067,
     "end_time": "2025-09-11T23:13:42.091807",
     "exception": false,
     "start_time": "2025-09-11T23:13:42.069740",
     "status": "completed"
    },
    "tags": []
   },
   "outputs": [],
   "source": [
    "df_clean['Day'] = df_clean['Last Updated'].dt.day\n",
    "df_clean['Month'] = df_clean['Last Updated'].dt.month\n",
    "df_clean['Year'] = df_clean['Last Updated'].dt.year"
   ]
  },
  {
   "cell_type": "code",
   "execution_count": 31,
   "id": "27b22237",
   "metadata": {
    "execution": {
     "iopub.execute_input": "2025-09-11T23:13:42.112645Z",
     "iopub.status.busy": "2025-09-11T23:13:42.112365Z",
     "iopub.status.idle": "2025-09-11T23:13:42.128006Z",
     "shell.execute_reply": "2025-09-11T23:13:42.127112Z"
    },
    "papermill": {
     "duration": 0.027813,
     "end_time": "2025-09-11T23:13:42.129471",
     "exception": false,
     "start_time": "2025-09-11T23:13:42.101658",
     "status": "completed"
    },
    "tags": []
   },
   "outputs": [
    {
     "data": {
      "text/html": [
       "<div>\n",
       "<style scoped>\n",
       "    .dataframe tbody tr th:only-of-type {\n",
       "        vertical-align: middle;\n",
       "    }\n",
       "\n",
       "    .dataframe tbody tr th {\n",
       "        vertical-align: top;\n",
       "    }\n",
       "\n",
       "    .dataframe thead th {\n",
       "        text-align: right;\n",
       "    }\n",
       "</style>\n",
       "<table border=\"1\" class=\"dataframe\">\n",
       "  <thead>\n",
       "    <tr style=\"text-align: right;\">\n",
       "      <th></th>\n",
       "      <th>App</th>\n",
       "      <th>Category</th>\n",
       "      <th>Rating</th>\n",
       "      <th>Reviews</th>\n",
       "      <th>Size</th>\n",
       "      <th>Installs</th>\n",
       "      <th>Type</th>\n",
       "      <th>Price</th>\n",
       "      <th>Content Rating</th>\n",
       "      <th>Genres</th>\n",
       "      <th>Last Updated</th>\n",
       "      <th>Current Ver</th>\n",
       "      <th>Android Ver</th>\n",
       "      <th>Day</th>\n",
       "      <th>Month</th>\n",
       "      <th>Year</th>\n",
       "    </tr>\n",
       "  </thead>\n",
       "  <tbody>\n",
       "    <tr>\n",
       "      <th>0</th>\n",
       "      <td>Photo Editor &amp; Candy Camera &amp; Grid &amp; ScrapBook</td>\n",
       "      <td>ART_AND_DESIGN</td>\n",
       "      <td>4.1</td>\n",
       "      <td>159</td>\n",
       "      <td>19000.0</td>\n",
       "      <td>10000</td>\n",
       "      <td>Free</td>\n",
       "      <td>0.0</td>\n",
       "      <td>Everyone</td>\n",
       "      <td>Art &amp; Design</td>\n",
       "      <td>2018-01-07</td>\n",
       "      <td>1.0.0</td>\n",
       "      <td>4.0.3 and up</td>\n",
       "      <td>7</td>\n",
       "      <td>1</td>\n",
       "      <td>2018</td>\n",
       "    </tr>\n",
       "    <tr>\n",
       "      <th>1</th>\n",
       "      <td>Coloring book moana</td>\n",
       "      <td>ART_AND_DESIGN</td>\n",
       "      <td>3.9</td>\n",
       "      <td>967</td>\n",
       "      <td>14000.0</td>\n",
       "      <td>500000</td>\n",
       "      <td>Free</td>\n",
       "      <td>0.0</td>\n",
       "      <td>Everyone</td>\n",
       "      <td>Art &amp; Design;Pretend Play</td>\n",
       "      <td>2018-01-15</td>\n",
       "      <td>2.0.0</td>\n",
       "      <td>4.0.3 and up</td>\n",
       "      <td>15</td>\n",
       "      <td>1</td>\n",
       "      <td>2018</td>\n",
       "    </tr>\n",
       "    <tr>\n",
       "      <th>2</th>\n",
       "      <td>U Launcher Lite – FREE Live Cool Themes, Hide ...</td>\n",
       "      <td>ART_AND_DESIGN</td>\n",
       "      <td>4.7</td>\n",
       "      <td>87510</td>\n",
       "      <td>8.7</td>\n",
       "      <td>5000000</td>\n",
       "      <td>Free</td>\n",
       "      <td>0.0</td>\n",
       "      <td>Everyone</td>\n",
       "      <td>Art &amp; Design</td>\n",
       "      <td>2018-08-01</td>\n",
       "      <td>1.2.4</td>\n",
       "      <td>4.0.3 and up</td>\n",
       "      <td>1</td>\n",
       "      <td>8</td>\n",
       "      <td>2018</td>\n",
       "    </tr>\n",
       "    <tr>\n",
       "      <th>3</th>\n",
       "      <td>Sketch - Draw &amp; Paint</td>\n",
       "      <td>ART_AND_DESIGN</td>\n",
       "      <td>4.5</td>\n",
       "      <td>215644</td>\n",
       "      <td>25000.0</td>\n",
       "      <td>50000000</td>\n",
       "      <td>Free</td>\n",
       "      <td>0.0</td>\n",
       "      <td>Teen</td>\n",
       "      <td>Art &amp; Design</td>\n",
       "      <td>2018-06-08</td>\n",
       "      <td>Varies with device</td>\n",
       "      <td>4.2 and up</td>\n",
       "      <td>8</td>\n",
       "      <td>6</td>\n",
       "      <td>2018</td>\n",
       "    </tr>\n",
       "    <tr>\n",
       "      <th>4</th>\n",
       "      <td>Pixel Draw - Number Art Coloring Book</td>\n",
       "      <td>ART_AND_DESIGN</td>\n",
       "      <td>4.3</td>\n",
       "      <td>967</td>\n",
       "      <td>2.8</td>\n",
       "      <td>100000</td>\n",
       "      <td>Free</td>\n",
       "      <td>0.0</td>\n",
       "      <td>Everyone</td>\n",
       "      <td>Art &amp; Design;Creativity</td>\n",
       "      <td>2018-06-20</td>\n",
       "      <td>1.1</td>\n",
       "      <td>4.4 and up</td>\n",
       "      <td>20</td>\n",
       "      <td>6</td>\n",
       "      <td>2018</td>\n",
       "    </tr>\n",
       "  </tbody>\n",
       "</table>\n",
       "</div>"
      ],
      "text/plain": [
       "                                                 App        Category  Rating  \\\n",
       "0     Photo Editor & Candy Camera & Grid & ScrapBook  ART_AND_DESIGN     4.1   \n",
       "1                                Coloring book moana  ART_AND_DESIGN     3.9   \n",
       "2  U Launcher Lite – FREE Live Cool Themes, Hide ...  ART_AND_DESIGN     4.7   \n",
       "3                              Sketch - Draw & Paint  ART_AND_DESIGN     4.5   \n",
       "4              Pixel Draw - Number Art Coloring Book  ART_AND_DESIGN     4.3   \n",
       "\n",
       "   Reviews     Size  Installs  Type  Price Content Rating  \\\n",
       "0      159  19000.0     10000  Free    0.0       Everyone   \n",
       "1      967  14000.0    500000  Free    0.0       Everyone   \n",
       "2    87510      8.7   5000000  Free    0.0       Everyone   \n",
       "3   215644  25000.0  50000000  Free    0.0           Teen   \n",
       "4      967      2.8    100000  Free    0.0       Everyone   \n",
       "\n",
       "                      Genres Last Updated         Current Ver   Android Ver  \\\n",
       "0               Art & Design   2018-01-07               1.0.0  4.0.3 and up   \n",
       "1  Art & Design;Pretend Play   2018-01-15               2.0.0  4.0.3 and up   \n",
       "2               Art & Design   2018-08-01               1.2.4  4.0.3 and up   \n",
       "3               Art & Design   2018-06-08  Varies with device    4.2 and up   \n",
       "4    Art & Design;Creativity   2018-06-20                 1.1    4.4 and up   \n",
       "\n",
       "   Day  Month  Year  \n",
       "0    7      1  2018  \n",
       "1   15      1  2018  \n",
       "2    1      8  2018  \n",
       "3    8      6  2018  \n",
       "4   20      6  2018  "
      ]
     },
     "execution_count": 31,
     "metadata": {},
     "output_type": "execute_result"
    }
   ],
   "source": [
    "df_clean.head()"
   ]
  },
  {
   "cell_type": "code",
   "execution_count": 32,
   "id": "83e1b2b3",
   "metadata": {
    "execution": {
     "iopub.execute_input": "2025-09-11T23:13:42.150761Z",
     "iopub.status.busy": "2025-09-11T23:13:42.150488Z",
     "iopub.status.idle": "2025-09-11T23:13:42.161004Z",
     "shell.execute_reply": "2025-09-11T23:13:42.159990Z"
    },
    "papermill": {
     "duration": 0.023498,
     "end_time": "2025-09-11T23:13:42.162956",
     "exception": false,
     "start_time": "2025-09-11T23:13:42.139458",
     "status": "completed"
    },
    "tags": []
   },
   "outputs": [],
   "source": [
    "df_clean = df_clean.drop_duplicates(subset=['App'],keep='first')"
   ]
  },
  {
   "cell_type": "code",
   "execution_count": 33,
   "id": "d379ea60",
   "metadata": {
    "execution": {
     "iopub.execute_input": "2025-09-11T23:13:42.185077Z",
     "iopub.status.busy": "2025-09-11T23:13:42.184732Z",
     "iopub.status.idle": "2025-09-11T23:13:42.200675Z",
     "shell.execute_reply": "2025-09-11T23:13:42.199490Z"
    },
    "papermill": {
     "duration": 0.028645,
     "end_time": "2025-09-11T23:13:42.202284",
     "exception": false,
     "start_time": "2025-09-11T23:13:42.173639",
     "status": "completed"
    },
    "tags": []
   },
   "outputs": [
    {
     "name": "stdout",
     "output_type": "stream",
     "text": [
      "<class 'pandas.core.frame.DataFrame'>\n",
      "Index: 9659 entries, 0 to 10840\n",
      "Data columns (total 16 columns):\n",
      " #   Column          Non-Null Count  Dtype         \n",
      "---  ------          --------------  -----         \n",
      " 0   App             9659 non-null   object        \n",
      " 1   Category        9659 non-null   object        \n",
      " 2   Rating          8196 non-null   float64       \n",
      " 3   Reviews         9659 non-null   int64         \n",
      " 4   Size            8432 non-null   float64       \n",
      " 5   Installs        9659 non-null   int64         \n",
      " 6   Type            9658 non-null   object        \n",
      " 7   Price           9659 non-null   float64       \n",
      " 8   Content Rating  9659 non-null   object        \n",
      " 9   Genres          9659 non-null   object        \n",
      " 10  Last Updated    9659 non-null   datetime64[ns]\n",
      " 11  Current Ver     9651 non-null   object        \n",
      " 12  Android Ver     9657 non-null   object        \n",
      " 13  Day             9659 non-null   int32         \n",
      " 14  Month           9659 non-null   int32         \n",
      " 15  Year            9659 non-null   int32         \n",
      "dtypes: datetime64[ns](1), float64(3), int32(3), int64(2), object(7)\n",
      "memory usage: 1.1+ MB\n"
     ]
    }
   ],
   "source": [
    "df_clean.info()"
   ]
  },
  {
   "cell_type": "code",
   "execution_count": 34,
   "id": "b629b2ca",
   "metadata": {
    "execution": {
     "iopub.execute_input": "2025-09-11T23:13:42.223862Z",
     "iopub.status.busy": "2025-09-11T23:13:42.223534Z",
     "iopub.status.idle": "2025-09-11T23:13:42.228755Z",
     "shell.execute_reply": "2025-09-11T23:13:42.227805Z"
    },
    "papermill": {
     "duration": 0.017795,
     "end_time": "2025-09-11T23:13:42.230429",
     "exception": false,
     "start_time": "2025-09-11T23:13:42.212634",
     "status": "completed"
    },
    "tags": []
   },
   "outputs": [],
   "source": [
    "numeric_features = [feature for feature in df_clean.columns if df_clean[feature].dtype!='O']\n",
    "categorical_features = [feature for feature in df_clean.columns if df_clean[feature].dtype=='O']"
   ]
  },
  {
   "cell_type": "code",
   "execution_count": 35,
   "id": "7dd55ff4",
   "metadata": {
    "execution": {
     "iopub.execute_input": "2025-09-11T23:13:42.251738Z",
     "iopub.status.busy": "2025-09-11T23:13:42.251439Z",
     "iopub.status.idle": "2025-09-11T23:13:42.256117Z",
     "shell.execute_reply": "2025-09-11T23:13:42.255136Z"
    },
    "papermill": {
     "duration": 0.016976,
     "end_time": "2025-09-11T23:13:42.257606",
     "exception": false,
     "start_time": "2025-09-11T23:13:42.240630",
     "status": "completed"
    },
    "tags": []
   },
   "outputs": [
    {
     "name": "stdout",
     "output_type": "stream",
     "text": [
      "['Rating', 'Reviews', 'Size', 'Installs', 'Price', 'Last Updated', 'Day', 'Month', 'Year']\n"
     ]
    }
   ],
   "source": [
    "print(numeric_features)"
   ]
  },
  {
   "cell_type": "code",
   "execution_count": 36,
   "id": "485cbe43",
   "metadata": {
    "execution": {
     "iopub.execute_input": "2025-09-11T23:13:42.278732Z",
     "iopub.status.busy": "2025-09-11T23:13:42.278412Z",
     "iopub.status.idle": "2025-09-11T23:13:42.283099Z",
     "shell.execute_reply": "2025-09-11T23:13:42.282204Z"
    },
    "papermill": {
     "duration": 0.016738,
     "end_time": "2025-09-11T23:13:42.284486",
     "exception": false,
     "start_time": "2025-09-11T23:13:42.267748",
     "status": "completed"
    },
    "tags": []
   },
   "outputs": [
    {
     "name": "stdout",
     "output_type": "stream",
     "text": [
      "['App', 'Category', 'Type', 'Content Rating', 'Genres', 'Current Ver', 'Android Ver']\n"
     ]
    }
   ],
   "source": [
    "print(categorical_features)"
   ]
  },
  {
   "cell_type": "code",
   "execution_count": 37,
   "id": "c8409941",
   "metadata": {
    "execution": {
     "iopub.execute_input": "2025-09-11T23:13:42.306372Z",
     "iopub.status.busy": "2025-09-11T23:13:42.306089Z",
     "iopub.status.idle": "2025-09-11T23:13:45.478348Z",
     "shell.execute_reply": "2025-09-11T23:13:45.476601Z"
    },
    "papermill": {
     "duration": 3.189266,
     "end_time": "2025-09-11T23:13:45.484029",
     "exception": false,
     "start_time": "2025-09-11T23:13:42.294763",
     "status": "completed"
    },
    "tags": []
   },
   "outputs": [
    {
     "name": "stderr",
     "output_type": "stream",
     "text": [
      "/usr/local/lib/python3.11/dist-packages/seaborn/_oldcore.py:1119: FutureWarning: use_inf_as_na option is deprecated and will be removed in a future version. Convert inf values to NaN before operating instead.\n",
      "  with pd.option_context('mode.use_inf_as_na', True):\n",
      "/usr/local/lib/python3.11/dist-packages/seaborn/_oldcore.py:1119: FutureWarning: use_inf_as_na option is deprecated and will be removed in a future version. Convert inf values to NaN before operating instead.\n",
      "  with pd.option_context('mode.use_inf_as_na', True):\n",
      "/tmp/ipykernel_13/3762423359.py:7: UserWarning: The figure layout has changed to tight\n",
      "  plt.tight_layout()\n",
      "/usr/local/lib/python3.11/dist-packages/seaborn/_oldcore.py:1119: FutureWarning: use_inf_as_na option is deprecated and will be removed in a future version. Convert inf values to NaN before operating instead.\n",
      "  with pd.option_context('mode.use_inf_as_na', True):\n",
      "/tmp/ipykernel_13/3762423359.py:7: UserWarning: The figure layout has changed to tight\n",
      "  plt.tight_layout()\n",
      "/usr/local/lib/python3.11/dist-packages/seaborn/_oldcore.py:1119: FutureWarning: use_inf_as_na option is deprecated and will be removed in a future version. Convert inf values to NaN before operating instead.\n",
      "  with pd.option_context('mode.use_inf_as_na', True):\n",
      "/tmp/ipykernel_13/3762423359.py:7: UserWarning: The figure layout has changed to tight\n",
      "  plt.tight_layout()\n",
      "/usr/local/lib/python3.11/dist-packages/seaborn/_oldcore.py:1119: FutureWarning: use_inf_as_na option is deprecated and will be removed in a future version. Convert inf values to NaN before operating instead.\n",
      "  with pd.option_context('mode.use_inf_as_na', True):\n",
      "/tmp/ipykernel_13/3762423359.py:7: UserWarning: The figure layout has changed to tight\n",
      "  plt.tight_layout()\n",
      "/usr/local/lib/python3.11/dist-packages/seaborn/_oldcore.py:1119: FutureWarning: use_inf_as_na option is deprecated and will be removed in a future version. Convert inf values to NaN before operating instead.\n",
      "  with pd.option_context('mode.use_inf_as_na', True):\n",
      "/tmp/ipykernel_13/3762423359.py:7: UserWarning: The figure layout has changed to tight\n",
      "  plt.tight_layout()\n",
      "/usr/local/lib/python3.11/dist-packages/seaborn/_oldcore.py:1119: FutureWarning: use_inf_as_na option is deprecated and will be removed in a future version. Convert inf values to NaN before operating instead.\n",
      "  with pd.option_context('mode.use_inf_as_na', True):\n",
      "/tmp/ipykernel_13/3762423359.py:7: UserWarning: The figure layout has changed to tight\n",
      "  plt.tight_layout()\n",
      "/usr/local/lib/python3.11/dist-packages/seaborn/_oldcore.py:1119: FutureWarning: use_inf_as_na option is deprecated and will be removed in a future version. Convert inf values to NaN before operating instead.\n",
      "  with pd.option_context('mode.use_inf_as_na', True):\n",
      "/tmp/ipykernel_13/3762423359.py:7: UserWarning: The figure layout has changed to tight\n",
      "  plt.tight_layout()\n",
      "/usr/local/lib/python3.11/dist-packages/seaborn/_oldcore.py:1119: FutureWarning: use_inf_as_na option is deprecated and will be removed in a future version. Convert inf values to NaN before operating instead.\n",
      "  with pd.option_context('mode.use_inf_as_na', True):\n",
      "/tmp/ipykernel_13/3762423359.py:7: UserWarning: The figure layout has changed to tight\n",
      "  plt.tight_layout()\n"
     ]
    },
    {
     "data": {
      "image/png": "[encoded data removed]",
      "text/plain": [
       "<Figure size 1500x1000 with 9 Axes>"
      ]
     },
     "metadata": {},
     "output_type": "display_data"
    }
   ],
   "source": [
    "plt.figure(figsize = (15,10))\n",
    "\n",
    "for i in range(0, len(numeric_features)):\n",
    "    plt.subplot(5,3,i+1)\n",
    "    sns.kdeplot(x=df_clean[numeric_features[i]],color=\"b\",fill=True)\n",
    "    plt.xlabel([numeric_features[i]])\n",
    "    plt.tight_layout()\n",
    "plt.show()"
   ]
  },
  {
   "cell_type": "code",
   "execution_count": 38,
   "id": "1b5a370f",
   "metadata": {
    "execution": {
     "iopub.execute_input": "2025-09-11T23:13:45.527900Z",
     "iopub.status.busy": "2025-09-11T23:13:45.526136Z",
     "iopub.status.idle": "2025-09-11T23:13:45.922415Z",
     "shell.execute_reply": "2025-09-11T23:13:45.920860Z"
    },
    "papermill": {
     "duration": 0.423486,
     "end_time": "2025-09-11T23:13:45.924768",
     "exception": false,
     "start_time": "2025-09-11T23:13:45.501282",
     "status": "completed"
    },
    "tags": []
   },
   "outputs": [
    {
     "name": "stderr",
     "output_type": "stream",
     "text": [
      "/tmp/ipykernel_13/3790004295.py:9: UserWarning: The figure layout has changed to tight\n",
      "  plt.tight_layout()\n"
     ]
    },
    {
     "data": {
      "image/png": "[encoded data removed]",
      "text/plain": [
       "<Figure size 1500x600 with 2 Axes>"
      ]
     },
     "metadata": {},
     "output_type": "display_data"
    }
   ],
   "source": [
    "plt.figure(figsize = (15,6))\n",
    "\n",
    "category=[\"Type\",\"Content Rating\"]\n",
    "\n",
    "for i in range(0, len(category)):\n",
    "    plt.subplot(1,2,i+1)\n",
    "    sns.countplot(x=df_clean[category[i]],color=\"b\",fill=True)\n",
    "    plt.xlabel([category[i]])\n",
    "    plt.tight_layout()\n",
    "plt.show()"
   ]
  },
  {
   "cell_type": "code",
   "execution_count": 39,
   "id": "7a8cd9f4",
   "metadata": {
    "execution": {
     "iopub.execute_input": "2025-09-11T23:13:45.954687Z",
     "iopub.status.busy": "2025-09-11T23:13:45.954349Z",
     "iopub.status.idle": "2025-09-11T23:13:45.963718Z",
     "shell.execute_reply": "2025-09-11T23:13:45.962494Z"
    },
    "papermill": {
     "duration": 0.026834,
     "end_time": "2025-09-11T23:13:45.965377",
     "exception": false,
     "start_time": "2025-09-11T23:13:45.938543",
     "status": "completed"
    },
    "tags": []
   },
   "outputs": [
    {
     "data": {
      "text/plain": [
       "Category\n",
       "FAMILY                 1832\n",
       "GAME                    959\n",
       "TOOLS                   827\n",
       "BUSINESS                420\n",
       "MEDICAL                 395\n",
       "PERSONALIZATION         376\n",
       "PRODUCTIVITY            374\n",
       "LIFESTYLE               369\n",
       "FINANCE                 345\n",
       "SPORTS                  325\n",
       "COMMUNICATION           315\n",
       "HEALTH_AND_FITNESS      288\n",
       "PHOTOGRAPHY             281\n",
       "NEWS_AND_MAGAZINES      254\n",
       "SOCIAL                  239\n",
       "BOOKS_AND_REFERENCE     222\n",
       "TRAVEL_AND_LOCAL        219\n",
       "SHOPPING                202\n",
       "DATING                  171\n",
       "VIDEO_PLAYERS           163\n",
       "MAPS_AND_NAVIGATION     131\n",
       "EDUCATION               119\n",
       "FOOD_AND_DRINK          112\n",
       "ENTERTAINMENT           102\n",
       "AUTO_AND_VEHICLES        85\n",
       "LIBRARIES_AND_DEMO       84\n",
       "WEATHER                  79\n",
       "HOUSE_AND_HOME           74\n",
       "EVENTS                   64\n",
       "ART_AND_DESIGN           64\n",
       "PARENTING                60\n",
       "COMICS                   56\n",
       "BEAUTY                   53\n",
       "Name: count, dtype: int64"
      ]
     },
     "execution_count": 39,
     "metadata": {},
     "output_type": "execute_result"
    }
   ],
   "source": [
    "df_clean['Category'].value_counts()"
   ]
  },
  {
   "cell_type": "code",
   "execution_count": 40,
   "id": "ee08f117",
   "metadata": {
    "execution": {
     "iopub.execute_input": "2025-09-11T23:13:45.998982Z",
     "iopub.status.busy": "2025-09-11T23:13:45.998643Z",
     "iopub.status.idle": "2025-09-11T23:13:46.009410Z",
     "shell.execute_reply": "2025-09-11T23:13:46.007730Z"
    },
    "papermill": {
     "duration": 0.029425,
     "end_time": "2025-09-11T23:13:46.011520",
     "exception": false,
     "start_time": "2025-09-11T23:13:45.982095",
     "status": "completed"
    },
    "tags": []
   },
   "outputs": [],
   "source": [
    "df_cat_installs = df_clean.groupby(['Category'])['Installs'].sum().sort_values(ascending=False).reset_index()"
   ]
  },
  {
   "cell_type": "code",
   "execution_count": 41,
   "id": "1b1a6c14",
   "metadata": {
    "execution": {
     "iopub.execute_input": "2025-09-11T23:13:46.040911Z",
     "iopub.status.busy": "2025-09-11T23:13:46.040572Z",
     "iopub.status.idle": "2025-09-11T23:13:46.050709Z",
     "shell.execute_reply": "2025-09-11T23:13:46.049508Z"
    },
    "papermill": {
     "duration": 0.027201,
     "end_time": "2025-09-11T23:13:46.052934",
     "exception": false,
     "start_time": "2025-09-11T23:13:46.025733",
     "status": "completed"
    },
    "tags": []
   },
   "outputs": [
    {
     "data": {
      "text/html": [
       "<div>\n",
       "<style scoped>\n",
       "    .dataframe tbody tr th:only-of-type {\n",
       "        vertical-align: middle;\n",
       "    }\n",
       "\n",
       "    .dataframe tbody tr th {\n",
       "        vertical-align: top;\n",
       "    }\n",
       "\n",
       "    .dataframe thead th {\n",
       "        text-align: right;\n",
       "    }\n",
       "</style>\n",
       "<table border=\"1\" class=\"dataframe\">\n",
       "  <thead>\n",
       "    <tr style=\"text-align: right;\">\n",
       "      <th></th>\n",
       "      <th>Category</th>\n",
       "      <th>Installs</th>\n",
       "    </tr>\n",
       "  </thead>\n",
       "  <tbody>\n",
       "    <tr>\n",
       "      <th>0</th>\n",
       "      <td>GAME</td>\n",
       "      <td>13878924415</td>\n",
       "    </tr>\n",
       "    <tr>\n",
       "      <th>1</th>\n",
       "      <td>COMMUNICATION</td>\n",
       "      <td>11038276251</td>\n",
       "    </tr>\n",
       "    <tr>\n",
       "      <th>2</th>\n",
       "      <td>TOOLS</td>\n",
       "      <td>8001771915</td>\n",
       "    </tr>\n",
       "    <tr>\n",
       "      <th>3</th>\n",
       "      <td>PRODUCTIVITY</td>\n",
       "      <td>5793091369</td>\n",
       "    </tr>\n",
       "    <tr>\n",
       "      <th>4</th>\n",
       "      <td>SOCIAL</td>\n",
       "      <td>5487867902</td>\n",
       "    </tr>\n",
       "    <tr>\n",
       "      <th>5</th>\n",
       "      <td>PHOTOGRAPHY</td>\n",
       "      <td>4649147655</td>\n",
       "    </tr>\n",
       "    <tr>\n",
       "      <th>6</th>\n",
       "      <td>FAMILY</td>\n",
       "      <td>4427941505</td>\n",
       "    </tr>\n",
       "    <tr>\n",
       "      <th>7</th>\n",
       "      <td>VIDEO_PLAYERS</td>\n",
       "      <td>3926902720</td>\n",
       "    </tr>\n",
       "    <tr>\n",
       "      <th>8</th>\n",
       "      <td>TRAVEL_AND_LOCAL</td>\n",
       "      <td>2894887146</td>\n",
       "    </tr>\n",
       "    <tr>\n",
       "      <th>9</th>\n",
       "      <td>NEWS_AND_MAGAZINES</td>\n",
       "      <td>2369217760</td>\n",
       "    </tr>\n",
       "    <tr>\n",
       "      <th>10</th>\n",
       "      <td>ENTERTAINMENT</td>\n",
       "      <td>2113660000</td>\n",
       "    </tr>\n",
       "    <tr>\n",
       "      <th>11</th>\n",
       "      <td>BOOKS_AND_REFERENCE</td>\n",
       "      <td>1665969576</td>\n",
       "    </tr>\n",
       "    <tr>\n",
       "      <th>12</th>\n",
       "      <td>PERSONALIZATION</td>\n",
       "      <td>1532494782</td>\n",
       "    </tr>\n",
       "    <tr>\n",
       "      <th>13</th>\n",
       "      <td>SHOPPING</td>\n",
       "      <td>1400348785</td>\n",
       "    </tr>\n",
       "    <tr>\n",
       "      <th>14</th>\n",
       "      <td>HEALTH_AND_FITNESS</td>\n",
       "      <td>1144022512</td>\n",
       "    </tr>\n",
       "    <tr>\n",
       "      <th>15</th>\n",
       "      <td>SPORTS</td>\n",
       "      <td>1096474498</td>\n",
       "    </tr>\n",
       "    <tr>\n",
       "      <th>16</th>\n",
       "      <td>BUSINESS</td>\n",
       "      <td>697164865</td>\n",
       "    </tr>\n",
       "    <tr>\n",
       "      <th>17</th>\n",
       "      <td>LIFESTYLE</td>\n",
       "      <td>503823539</td>\n",
       "    </tr>\n",
       "    <tr>\n",
       "      <th>18</th>\n",
       "      <td>MAPS_AND_NAVIGATION</td>\n",
       "      <td>503281890</td>\n",
       "    </tr>\n",
       "    <tr>\n",
       "      <th>19</th>\n",
       "      <td>FINANCE</td>\n",
       "      <td>455348734</td>\n",
       "    </tr>\n",
       "    <tr>\n",
       "      <th>20</th>\n",
       "      <td>WEATHER</td>\n",
       "      <td>361100520</td>\n",
       "    </tr>\n",
       "    <tr>\n",
       "      <th>21</th>\n",
       "      <td>EDUCATION</td>\n",
       "      <td>352952000</td>\n",
       "    </tr>\n",
       "    <tr>\n",
       "      <th>22</th>\n",
       "      <td>FOOD_AND_DRINK</td>\n",
       "      <td>211798751</td>\n",
       "    </tr>\n",
       "    <tr>\n",
       "      <th>23</th>\n",
       "      <td>DATING</td>\n",
       "      <td>140926107</td>\n",
       "    </tr>\n",
       "    <tr>\n",
       "      <th>24</th>\n",
       "      <td>ART_AND_DESIGN</td>\n",
       "      <td>114338100</td>\n",
       "    </tr>\n",
       "    <tr>\n",
       "      <th>25</th>\n",
       "      <td>HOUSE_AND_HOME</td>\n",
       "      <td>97212461</td>\n",
       "    </tr>\n",
       "    <tr>\n",
       "      <th>26</th>\n",
       "      <td>AUTO_AND_VEHICLES</td>\n",
       "      <td>53130211</td>\n",
       "    </tr>\n",
       "    <tr>\n",
       "      <th>27</th>\n",
       "      <td>LIBRARIES_AND_DEMO</td>\n",
       "      <td>52995910</td>\n",
       "    </tr>\n",
       "    <tr>\n",
       "      <th>28</th>\n",
       "      <td>COMICS</td>\n",
       "      <td>44981150</td>\n",
       "    </tr>\n",
       "    <tr>\n",
       "      <th>29</th>\n",
       "      <td>MEDICAL</td>\n",
       "      <td>38193177</td>\n",
       "    </tr>\n",
       "    <tr>\n",
       "      <th>30</th>\n",
       "      <td>PARENTING</td>\n",
       "      <td>31521110</td>\n",
       "    </tr>\n",
       "    <tr>\n",
       "      <th>31</th>\n",
       "      <td>BEAUTY</td>\n",
       "      <td>27197050</td>\n",
       "    </tr>\n",
       "    <tr>\n",
       "      <th>32</th>\n",
       "      <td>EVENTS</td>\n",
       "      <td>15973161</td>\n",
       "    </tr>\n",
       "  </tbody>\n",
       "</table>\n",
       "</div>"
      ],
      "text/plain": [
       "               Category     Installs\n",
       "0                  GAME  13878924415\n",
       "1         COMMUNICATION  11038276251\n",
       "2                 TOOLS   8001771915\n",
       "3          PRODUCTIVITY   5793091369\n",
       "4                SOCIAL   5487867902\n",
       "5           PHOTOGRAPHY   4649147655\n",
       "6                FAMILY   4427941505\n",
       "7         VIDEO_PLAYERS   3926902720\n",
       "8      TRAVEL_AND_LOCAL   2894887146\n",
       "9    NEWS_AND_MAGAZINES   2369217760\n",
       "10        ENTERTAINMENT   2113660000\n",
       "11  BOOKS_AND_REFERENCE   1665969576\n",
       "12      PERSONALIZATION   1532494782\n",
       "13             SHOPPING   1400348785\n",
       "14   HEALTH_AND_FITNESS   1144022512\n",
       "15               SPORTS   1096474498\n",
       "16             BUSINESS    697164865\n",
       "17            LIFESTYLE    503823539\n",
       "18  MAPS_AND_NAVIGATION    503281890\n",
       "19              FINANCE    455348734\n",
       "20              WEATHER    361100520\n",
       "21            EDUCATION    352952000\n",
       "22       FOOD_AND_DRINK    211798751\n",
       "23               DATING    140926107\n",
       "24       ART_AND_DESIGN    114338100\n",
       "25       HOUSE_AND_HOME     97212461\n",
       "26    AUTO_AND_VEHICLES     53130211\n",
       "27   LIBRARIES_AND_DEMO     52995910\n",
       "28               COMICS     44981150\n",
       "29              MEDICAL     38193177\n",
       "30            PARENTING     31521110\n",
       "31               BEAUTY     27197050\n",
       "32               EVENTS     15973161"
      ]
     },
     "execution_count": 41,
     "metadata": {},
     "output_type": "execute_result"
    }
   ],
   "source": [
    "df_cat_installs"
   ]
  },
  {
   "cell_type": "code",
   "execution_count": 42,
   "id": "af07de39",
   "metadata": {
    "execution": {
     "iopub.execute_input": "2025-09-11T23:13:46.086889Z",
     "iopub.status.busy": "2025-09-11T23:13:46.086559Z",
     "iopub.status.idle": "2025-09-11T23:13:46.092422Z",
     "shell.execute_reply": "2025-09-11T23:13:46.091379Z"
    },
    "papermill": {
     "duration": 0.024113,
     "end_time": "2025-09-11T23:13:46.094479",
     "exception": false,
     "start_time": "2025-09-11T23:13:46.070366",
     "status": "completed"
    },
    "tags": []
   },
   "outputs": [],
   "source": [
    "df_cat_installs['Installs'] = df_cat_installs['Installs']/100000000"
   ]
  },
  {
   "cell_type": "code",
   "execution_count": 43,
   "id": "1e2a735e",
   "metadata": {
    "execution": {
     "iopub.execute_input": "2025-09-11T23:13:46.126939Z",
     "iopub.status.busy": "2025-09-11T23:13:46.126586Z",
     "iopub.status.idle": "2025-09-11T23:13:46.138214Z",
     "shell.execute_reply": "2025-09-11T23:13:46.137245Z"
    },
    "papermill": {
     "duration": 0.031,
     "end_time": "2025-09-11T23:13:46.140222",
     "exception": false,
     "start_time": "2025-09-11T23:13:46.109222",
     "status": "completed"
    },
    "tags": []
   },
   "outputs": [
    {
     "data": {
      "text/html": [
       "<div>\n",
       "<style scoped>\n",
       "    .dataframe tbody tr th:only-of-type {\n",
       "        vertical-align: middle;\n",
       "    }\n",
       "\n",
       "    .dataframe tbody tr th {\n",
       "        vertical-align: top;\n",
       "    }\n",
       "\n",
       "    .dataframe thead th {\n",
       "        text-align: right;\n",
       "    }\n",
       "</style>\n",
       "<table border=\"1\" class=\"dataframe\">\n",
       "  <thead>\n",
       "    <tr style=\"text-align: right;\">\n",
       "      <th></th>\n",
       "      <th>Category</th>\n",
       "      <th>Installs</th>\n",
       "    </tr>\n",
       "  </thead>\n",
       "  <tbody>\n",
       "    <tr>\n",
       "      <th>0</th>\n",
       "      <td>GAME</td>\n",
       "      <td>138.789244</td>\n",
       "    </tr>\n",
       "    <tr>\n",
       "      <th>1</th>\n",
       "      <td>COMMUNICATION</td>\n",
       "      <td>110.382763</td>\n",
       "    </tr>\n",
       "    <tr>\n",
       "      <th>2</th>\n",
       "      <td>TOOLS</td>\n",
       "      <td>80.017719</td>\n",
       "    </tr>\n",
       "    <tr>\n",
       "      <th>3</th>\n",
       "      <td>PRODUCTIVITY</td>\n",
       "      <td>57.930914</td>\n",
       "    </tr>\n",
       "    <tr>\n",
       "      <th>4</th>\n",
       "      <td>SOCIAL</td>\n",
       "      <td>54.878679</td>\n",
       "    </tr>\n",
       "    <tr>\n",
       "      <th>5</th>\n",
       "      <td>PHOTOGRAPHY</td>\n",
       "      <td>46.491477</td>\n",
       "    </tr>\n",
       "    <tr>\n",
       "      <th>6</th>\n",
       "      <td>FAMILY</td>\n",
       "      <td>44.279415</td>\n",
       "    </tr>\n",
       "    <tr>\n",
       "      <th>7</th>\n",
       "      <td>VIDEO_PLAYERS</td>\n",
       "      <td>39.269027</td>\n",
       "    </tr>\n",
       "    <tr>\n",
       "      <th>8</th>\n",
       "      <td>TRAVEL_AND_LOCAL</td>\n",
       "      <td>28.948871</td>\n",
       "    </tr>\n",
       "    <tr>\n",
       "      <th>9</th>\n",
       "      <td>NEWS_AND_MAGAZINES</td>\n",
       "      <td>23.692178</td>\n",
       "    </tr>\n",
       "    <tr>\n",
       "      <th>10</th>\n",
       "      <td>ENTERTAINMENT</td>\n",
       "      <td>21.136600</td>\n",
       "    </tr>\n",
       "    <tr>\n",
       "      <th>11</th>\n",
       "      <td>BOOKS_AND_REFERENCE</td>\n",
       "      <td>16.659696</td>\n",
       "    </tr>\n",
       "    <tr>\n",
       "      <th>12</th>\n",
       "      <td>PERSONALIZATION</td>\n",
       "      <td>15.324948</td>\n",
       "    </tr>\n",
       "    <tr>\n",
       "      <th>13</th>\n",
       "      <td>SHOPPING</td>\n",
       "      <td>14.003488</td>\n",
       "    </tr>\n",
       "    <tr>\n",
       "      <th>14</th>\n",
       "      <td>HEALTH_AND_FITNESS</td>\n",
       "      <td>11.440225</td>\n",
       "    </tr>\n",
       "    <tr>\n",
       "      <th>15</th>\n",
       "      <td>SPORTS</td>\n",
       "      <td>10.964745</td>\n",
       "    </tr>\n",
       "    <tr>\n",
       "      <th>16</th>\n",
       "      <td>BUSINESS</td>\n",
       "      <td>6.971649</td>\n",
       "    </tr>\n",
       "    <tr>\n",
       "      <th>17</th>\n",
       "      <td>LIFESTYLE</td>\n",
       "      <td>5.038235</td>\n",
       "    </tr>\n",
       "    <tr>\n",
       "      <th>18</th>\n",
       "      <td>MAPS_AND_NAVIGATION</td>\n",
       "      <td>5.032819</td>\n",
       "    </tr>\n",
       "    <tr>\n",
       "      <th>19</th>\n",
       "      <td>FINANCE</td>\n",
       "      <td>4.553487</td>\n",
       "    </tr>\n",
       "    <tr>\n",
       "      <th>20</th>\n",
       "      <td>WEATHER</td>\n",
       "      <td>3.611005</td>\n",
       "    </tr>\n",
       "    <tr>\n",
       "      <th>21</th>\n",
       "      <td>EDUCATION</td>\n",
       "      <td>3.529520</td>\n",
       "    </tr>\n",
       "    <tr>\n",
       "      <th>22</th>\n",
       "      <td>FOOD_AND_DRINK</td>\n",
       "      <td>2.117988</td>\n",
       "    </tr>\n",
       "    <tr>\n",
       "      <th>23</th>\n",
       "      <td>DATING</td>\n",
       "      <td>1.409261</td>\n",
       "    </tr>\n",
       "    <tr>\n",
       "      <th>24</th>\n",
       "      <td>ART_AND_DESIGN</td>\n",
       "      <td>1.143381</td>\n",
       "    </tr>\n",
       "    <tr>\n",
       "      <th>25</th>\n",
       "      <td>HOUSE_AND_HOME</td>\n",
       "      <td>0.972125</td>\n",
       "    </tr>\n",
       "    <tr>\n",
       "      <th>26</th>\n",
       "      <td>AUTO_AND_VEHICLES</td>\n",
       "      <td>0.531302</td>\n",
       "    </tr>\n",
       "    <tr>\n",
       "      <th>27</th>\n",
       "      <td>LIBRARIES_AND_DEMO</td>\n",
       "      <td>0.529959</td>\n",
       "    </tr>\n",
       "    <tr>\n",
       "      <th>28</th>\n",
       "      <td>COMICS</td>\n",
       "      <td>0.449811</td>\n",
       "    </tr>\n",
       "    <tr>\n",
       "      <th>29</th>\n",
       "      <td>MEDICAL</td>\n",
       "      <td>0.381932</td>\n",
       "    </tr>\n",
       "    <tr>\n",
       "      <th>30</th>\n",
       "      <td>PARENTING</td>\n",
       "      <td>0.315211</td>\n",
       "    </tr>\n",
       "    <tr>\n",
       "      <th>31</th>\n",
       "      <td>BEAUTY</td>\n",
       "      <td>0.271971</td>\n",
       "    </tr>\n",
       "    <tr>\n",
       "      <th>32</th>\n",
       "      <td>EVENTS</td>\n",
       "      <td>0.159732</td>\n",
       "    </tr>\n",
       "  </tbody>\n",
       "</table>\n",
       "</div>"
      ],
      "text/plain": [
       "               Category    Installs\n",
       "0                  GAME  138.789244\n",
       "1         COMMUNICATION  110.382763\n",
       "2                 TOOLS   80.017719\n",
       "3          PRODUCTIVITY   57.930914\n",
       "4                SOCIAL   54.878679\n",
       "5           PHOTOGRAPHY   46.491477\n",
       "6                FAMILY   44.279415\n",
       "7         VIDEO_PLAYERS   39.269027\n",
       "8      TRAVEL_AND_LOCAL   28.948871\n",
       "9    NEWS_AND_MAGAZINES   23.692178\n",
       "10        ENTERTAINMENT   21.136600\n",
       "11  BOOKS_AND_REFERENCE   16.659696\n",
       "12      PERSONALIZATION   15.324948\n",
       "13             SHOPPING   14.003488\n",
       "14   HEALTH_AND_FITNESS   11.440225\n",
       "15               SPORTS   10.964745\n",
       "16             BUSINESS    6.971649\n",
       "17            LIFESTYLE    5.038235\n",
       "18  MAPS_AND_NAVIGATION    5.032819\n",
       "19              FINANCE    4.553487\n",
       "20              WEATHER    3.611005\n",
       "21            EDUCATION    3.529520\n",
       "22       FOOD_AND_DRINK    2.117988\n",
       "23               DATING    1.409261\n",
       "24       ART_AND_DESIGN    1.143381\n",
       "25       HOUSE_AND_HOME    0.972125\n",
       "26    AUTO_AND_VEHICLES    0.531302\n",
       "27   LIBRARIES_AND_DEMO    0.529959\n",
       "28               COMICS    0.449811\n",
       "29              MEDICAL    0.381932\n",
       "30            PARENTING    0.315211\n",
       "31               BEAUTY    0.271971\n",
       "32               EVENTS    0.159732"
      ]
     },
     "execution_count": 43,
     "metadata": {},
     "output_type": "execute_result"
    }
   ],
   "source": [
    "df_cat_installs"
   ]
  },
  {
   "cell_type": "code",
   "execution_count": 44,
   "id": "268130a3",
   "metadata": {
    "execution": {
     "iopub.execute_input": "2025-09-11T23:13:46.172388Z",
     "iopub.status.busy": "2025-09-11T23:13:46.172065Z",
     "iopub.status.idle": "2025-09-11T23:13:46.178449Z",
     "shell.execute_reply": "2025-09-11T23:13:46.176937Z"
    },
    "papermill": {
     "duration": 0.024856,
     "end_time": "2025-09-11T23:13:46.180601",
     "exception": false,
     "start_time": "2025-09-11T23:13:46.155745",
     "status": "completed"
    },
    "tags": []
   },
   "outputs": [],
   "source": [
    "df2= df_cat_installs.head(10)"
   ]
  },
  {
   "cell_type": "code",
   "execution_count": 45,
   "id": "6e280fbd",
   "metadata": {
    "execution": {
     "iopub.execute_input": "2025-09-11T23:13:46.213484Z",
     "iopub.status.busy": "2025-09-11T23:13:46.212948Z",
     "iopub.status.idle": "2025-09-11T23:13:46.462987Z",
     "shell.execute_reply": "2025-09-11T23:13:46.460038Z"
    },
    "papermill": {
     "duration": 0.269439,
     "end_time": "2025-09-11T23:13:46.465348",
     "exception": false,
     "start_time": "2025-09-11T23:13:46.195909",
     "status": "completed"
    },
    "tags": []
   },
   "outputs": [
    {
     "data": {
      "image/png": "[encoded data removed]",
      "text/plain": [
       "<Figure size 1000x500 with 1 Axes>"
      ]
     },
     "metadata": {},
     "output_type": "display_data"
    }
   ],
   "source": [
    "plt.figure(figsize=(10,5))\n",
    "\n",
    "sns.barplot(x='Installs',y='Category',data=df2)\n",
    "plt.show()"
   ]
  },
  {
   "cell_type": "code",
   "execution_count": 46,
   "id": "a6f863a7",
   "metadata": {
    "execution": {
     "iopub.execute_input": "2025-09-11T23:13:46.522956Z",
     "iopub.status.busy": "2025-09-11T23:13:46.522099Z",
     "iopub.status.idle": "2025-09-11T23:13:46.529161Z",
     "shell.execute_reply": "2025-09-11T23:13:46.527422Z"
    },
    "papermill": {
     "duration": 0.043337,
     "end_time": "2025-09-11T23:13:46.532299",
     "exception": false,
     "start_time": "2025-09-11T23:13:46.488962",
     "status": "completed"
    },
    "tags": []
   },
   "outputs": [],
   "source": [
    "apps = ['GAME','COMMUNICATION','TOOLS','PRODUCTIVITY','SOCIAL']"
   ]
  },
  {
   "cell_type": "code",
   "execution_count": 47,
   "id": "9a1e38cf",
   "metadata": {
    "execution": {
     "iopub.execute_input": "2025-09-11T23:13:46.570717Z",
     "iopub.status.busy": "2025-09-11T23:13:46.570420Z",
     "iopub.status.idle": "2025-09-11T23:13:46.594255Z",
     "shell.execute_reply": "2025-09-11T23:13:46.592302Z"
    },
    "papermill": {
     "duration": 0.046284,
     "end_time": "2025-09-11T23:13:46.596244",
     "exception": false,
     "start_time": "2025-09-11T23:13:46.549960",
     "status": "completed"
    },
    "tags": []
   },
   "outputs": [],
   "source": [
    "df_app_category = df_clean.groupby(['Category','App'])['Installs'].sum().reset_index()"
   ]
  },
  {
   "cell_type": "code",
   "execution_count": 48,
   "id": "06f05af7",
   "metadata": {
    "execution": {
     "iopub.execute_input": "2025-09-11T23:13:46.627452Z",
     "iopub.status.busy": "2025-09-11T23:13:46.627127Z",
     "iopub.status.idle": "2025-09-11T23:13:46.633956Z",
     "shell.execute_reply": "2025-09-11T23:13:46.633110Z"
    },
    "papermill": {
     "duration": 0.024658,
     "end_time": "2025-09-11T23:13:46.635751",
     "exception": false,
     "start_time": "2025-09-11T23:13:46.611093",
     "status": "completed"
    },
    "tags": []
   },
   "outputs": [],
   "source": [
    "df_app_category = df_app_category.sort_values('Installs',ascending=False)"
   ]
  },
  {
   "cell_type": "code",
   "execution_count": 49,
   "id": "81273407",
   "metadata": {
    "execution": {
     "iopub.execute_input": "2025-09-11T23:13:46.667784Z",
     "iopub.status.busy": "2025-09-11T23:13:46.667477Z",
     "iopub.status.idle": "2025-09-11T23:13:47.607319Z",
     "shell.execute_reply": "2025-09-11T23:13:47.606235Z"
    },
    "papermill": {
     "duration": 0.958911,
     "end_time": "2025-09-11T23:13:47.610151",
     "exception": false,
     "start_time": "2025-09-11T23:13:46.651240",
     "status": "completed"
    },
    "tags": []
   },
   "outputs": [
    {
     "data": {
      "image/png": "[encoded data removed]",
      "text/plain": [
       "<Figure size 1500x1500 with 5 Axes>"
      ]
     },
     "metadata": {},
     "output_type": "display_data"
    }
   ],
   "source": [
    "apps = ['GAME','COMMUNICATION','TOOLS','PRODUCTIVITY','SOCIAL']\n",
    "\n",
    "plt.figure(figsize= (15,15))\n",
    "for i,app in enumerate(apps):\n",
    "    df2 = df_app_category[df_app_category.Category == app]\n",
    "    df2=df2.head(5)\n",
    "    #print(df2)\n",
    "\n",
    "    plt.subplot(3,2,i+1)\n",
    "    sns.barplot(data=df2,x='Installs',y='App')\n",
    "    plt.title(app,size=20)\n",
    "plt.tight_layout()\n",
    "plt.show()"
   ]
  },
  {
   "cell_type": "code",
   "execution_count": null,
   "id": "51781ae2",
   "metadata": {
    "papermill": {
     "duration": 0.016662,
     "end_time": "2025-09-11T23:13:47.643805",
     "exception": false,
     "start_time": "2025-09-11T23:13:47.627143",
     "status": "completed"
    },
    "tags": []
   },
   "outputs": [],
   "source": []
  }
 ],
 "metadata": {
  "kaggle": {
   "accelerator": "none",
   "dataSources": [
    {
     "datasetId": 49864,
     "sourceId": 274957,
     "sourceType": "datasetVersion"
    }
   ],
   "dockerImageVersionId": 31089,
   "isGpuEnabled": false,
   "isInternetEnabled": true,
   "language": "python",
   "sourceType": "notebook"
  },
  "kernelspec": {
   "display_name": "Python 3",
   "language": "python",
   "name": "python3"
  },
  "language_info": {
   "codemirror_mode": {
    "name": "ipython",
    "version": 3
   },
   "file_extension": ".py",
   "mimetype": "text/x-python",
   "name": "python",
   "nbconvert_exporter": "python",
   "pygments_lexer": "ipython3",
   "version": "3.11.13"
  },
  "papermill": {
   "default_parameters": {},
   "duration": 19.402631,
   "end_time": "2025-09-11T23:13:48.485767",
   "environment_variables": {},
   "exception": null,
   "input_path": "__notebook__.ipynb",
   "output_path": "__notebook__.ipynb",
   "parameters": {},
   "start_time": "2025-09-11T23:13:29.083136",
   "version": "2.6.0"
  }
 },
 "nbformat": 4,
 "nbformat_minor": 5
}
